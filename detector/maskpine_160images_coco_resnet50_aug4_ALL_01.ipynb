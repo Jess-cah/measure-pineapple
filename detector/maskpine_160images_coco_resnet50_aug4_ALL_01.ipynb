{
  "nbformat": 4,
  "nbformat_minor": 0,
  "metadata": {
    "colab": {
      "name": "Copy of maskpine_160images_coco_resnet50_aug4_ALL_01.ipynb",
      "provenance": [],
      "collapsed_sections": [],
      "toc_visible": true,
      "mount_file_id": "19uCbZqP5eOu3TilHNdETi0OM93k2EsMO",
      "authorship_tag": "ABX9TyP92IqYlMImF+IJ5zFM7ceG",
      "include_colab_link": true
    },
    "kernelspec": {
      "name": "python3",
      "display_name": "Python 3"
    }
  },
  "cells": [
    {
      "cell_type": "markdown",
      "metadata": {
        "id": "view-in-github",
        "colab_type": "text"
      },
      "source": [
        "<a href=\"https://colab.research.google.com/github/Jess-cah/measure-pineapple/blob/main/detector/maskpine_160images_coco_resnet50_aug4_ALL_01.ipynb\" target=\"_parent\"><img src=\"https://colab.research.google.com/assets/colab-badge.svg\" alt=\"Open In Colab\"/></a>"
      ]
    },
    {
      "cell_type": "markdown",
      "metadata": {
        "id": "wBypReINvRBS"
      },
      "source": [
        "This workbook goes through the training of mask r-cnn for 160 images (112/32/16 train/val/test i.e. 70/20/10 percent split) obtained from a pineapple juicing factory.\n",
        "\n",
        "Using COCO starting weights, RESNET50 backbone and all AUGMENTATION techniques (i.e. FLiplr, Gaussian Noise and Blurring, as well as colour).\n",
        "\n",
        "**NOTE**: Use a GPU runtime for the entire workbook."
      ]
    },
    {
      "cell_type": "code",
      "metadata": {
        "id": "1GBL3f8la_Lc",
        "colab": {
          "base_uri": "https://localhost:8080/"
        },
        "outputId": "de84ea93-6356-4091-9804-9c36a4f610a6"
      },
      "source": [
        "from google.colab import drive\n",
        "drive.mount('/content/drive')"
      ],
      "execution_count": null,
      "outputs": [
        {
          "output_type": "stream",
          "text": [
            "Mounted at /content/drive\n"
          ],
          "name": "stdout"
        }
      ]
    },
    {
      "cell_type": "code",
      "metadata": {
        "id": "itCL0uIXbgO2",
        "colab": {
          "base_uri": "https://localhost:8080/",
          "height": 35
        },
        "outputId": "a9892942-0ccf-4235-bda0-ad962448afbe"
      },
      "source": [
        "import os\n",
        "import sys\n",
        "import random\n",
        "import math\n",
        "import re\n",
        "import time\n",
        "import numpy as np\n",
        "import cv2\n",
        "import matplotlib\n",
        "import matplotlib.pyplot as plt\n",
        "\n",
        "os.getcwd()"
      ],
      "execution_count": null,
      "outputs": [
        {
          "output_type": "execute_result",
          "data": {
            "application/vnd.google.colaboratory.intrinsic+json": {
              "type": "string"
            },
            "text/plain": [
              "'/content'"
            ]
          },
          "metadata": {
            "tags": []
          },
          "execution_count": 2
        }
      ]
    },
    {
      "cell_type": "code",
      "metadata": {
        "id": "BBZdQQIdbq5k",
        "colab": {
          "base_uri": "https://localhost:8080/",
          "height": 35
        },
        "outputId": "ede42e74-5bb7-4116-ee2b-0db00fb14f36"
      },
      "source": [
        "os.chdir(\"/content/drive/My Drive/Colab Notebooks/Pines_Mask_RCNN/Mask_RCNN\")\n",
        "os.getcwd()"
      ],
      "execution_count": null,
      "outputs": [
        {
          "output_type": "execute_result",
          "data": {
            "application/vnd.google.colaboratory.intrinsic+json": {
              "type": "string"
            },
            "text/plain": [
              "'/content/drive/My Drive/Colab Notebooks/Pines_Mask_RCNN/Mask_RCNN'"
            ]
          },
          "metadata": {
            "tags": []
          },
          "execution_count": 3
        }
      ]
    },
    {
      "cell_type": "code",
      "metadata": {
        "id": "C7FwJhEGb2wn"
      },
      "source": [
        "!pip install -r requirements.txt"
      ],
      "execution_count": null,
      "outputs": []
    },
    {
      "cell_type": "code",
      "metadata": {
        "id": "I6fM8mBkoSqO"
      },
      "source": [
        "%tensorflow_version 1.x\n",
        "!pip3 install Keras==2.0.8"
      ],
      "execution_count": null,
      "outputs": []
    },
    {
      "cell_type": "code",
      "metadata": {
        "id": "VpFoN513cXE7",
        "colab": {
          "base_uri": "https://localhost:8080/",
          "height": 35
        },
        "outputId": "43569c79-7c27-4c92-f3d0-6f2f492a0b40"
      },
      "source": [
        "os.chdir(\"/content/drive/My Drive/Colab Notebooks/Pines_Mask_RCNN/Mask_RCNN/samples/pineappleResNet50_aug\")\n",
        "os.getcwd()"
      ],
      "execution_count": null,
      "outputs": [
        {
          "output_type": "execute_result",
          "data": {
            "application/vnd.google.colaboratory.intrinsic+json": {
              "type": "string"
            },
            "text/plain": [
              "'/content/drive/My Drive/Colab Notebooks/Pines_Mask_RCNN/Mask_RCNN/samples/pineappleResNet50_aug'"
            ]
          },
          "metadata": {
            "tags": []
          },
          "execution_count": 6
        }
      ]
    },
    {
      "cell_type": "markdown",
      "metadata": {
        "id": "8OiCwPwQ_xZ5"
      },
      "source": [
        "# Load data set"
      ]
    },
    {
      "cell_type": "code",
      "metadata": {
        "id": "vObi5qMD_w9l",
        "colab": {
          "base_uri": "https://localhost:8080/"
        },
        "outputId": "f36704f4-9bbb-4c1f-e461-580dad265099"
      },
      "source": [
        "# Root directory of the project\n",
        "ROOT_DIR = os.path.abspath(\"../../\")\n",
        "\n",
        "# Import Mask RCNN\n",
        "sys.path.append(ROOT_DIR)  # To find local version of the library\n",
        "from mrcnn import utils\n",
        "from mrcnn import visualize\n",
        "from mrcnn.visualize import display_images\n",
        "import mrcnn.model as modellib\n",
        "from mrcnn.model import log\n",
        "\n",
        "import pineapple\n",
        "\n",
        "%matplotlib inline \n",
        "\n",
        "# Directory to save logs and trained model\n",
        "MODEL_DIR = os.path.join(ROOT_DIR, \"logs\")"
      ],
      "execution_count": null,
      "outputs": [
        {
          "output_type": "stream",
          "text": [
            "Using TensorFlow backend.\n"
          ],
          "name": "stderr"
        }
      ]
    },
    {
      "cell_type": "code",
      "metadata": {
        "id": "wQlFuoiDASac"
      },
      "source": [
        "config = pineapple.PineappleConfig()\n",
        "PINEAPPLE_DIR = os.path.join(ROOT_DIR, \"datasets/pineapple160\")"
      ],
      "execution_count": null,
      "outputs": []
    },
    {
      "cell_type": "code",
      "metadata": {
        "id": "3h-mv1C7Zlgd",
        "colab": {
          "base_uri": "https://localhost:8080/"
        },
        "outputId": "89bb668e-38b9-4456-e244-05f0f10974f1"
      },
      "source": [
        "config.display()"
      ],
      "execution_count": null,
      "outputs": [
        {
          "output_type": "stream",
          "text": [
            "\n",
            "Configurations:\n",
            "BACKBONE                       resnet50\n",
            "BACKBONE_STRIDES               [4, 8, 16, 32, 64]\n",
            "BATCH_SIZE                     1\n",
            "BBOX_STD_DEV                   [0.1 0.1 0.2 0.2]\n",
            "COMPUTE_BACKBONE_SHAPE         None\n",
            "DETECTION_MAX_INSTANCES        100\n",
            "DETECTION_MIN_CONFIDENCE       0.9\n",
            "DETECTION_NMS_THRESHOLD        0.3\n",
            "FPN_CLASSIF_FC_LAYERS_SIZE     1024\n",
            "GPU_COUNT                      1\n",
            "GRADIENT_CLIP_NORM             5.0\n",
            "IMAGES_PER_GPU                 1\n",
            "IMAGE_CHANNEL_COUNT            3\n",
            "IMAGE_MAX_DIM                  1024\n",
            "IMAGE_META_SIZE                14\n",
            "IMAGE_MIN_DIM                  800\n",
            "IMAGE_MIN_SCALE                0\n",
            "IMAGE_RESIZE_MODE              square\n",
            "IMAGE_SHAPE                    [1024 1024    3]\n",
            "LEARNING_MOMENTUM              0.9\n",
            "LEARNING_RATE                  0.001\n",
            "LOSS_WEIGHTS                   {'rpn_class_loss': 1.0, 'rpn_bbox_loss': 1.0, 'mrcnn_class_loss': 1.0, 'mrcnn_bbox_loss': 1.0, 'mrcnn_mask_loss': 1.0}\n",
            "MASK_POOL_SIZE                 14\n",
            "MASK_SHAPE                     [28, 28]\n",
            "MAX_GT_INSTANCES               100\n",
            "MEAN_PIXEL                     [123.7 116.8 103.9]\n",
            "MINI_MASK_SHAPE                (56, 56)\n",
            "NAME                           pineapple\n",
            "NUM_CLASSES                    2\n",
            "POOL_SIZE                      7\n",
            "POST_NMS_ROIS_INFERENCE        1000\n",
            "POST_NMS_ROIS_TRAINING         2000\n",
            "PRE_NMS_LIMIT                  6000\n",
            "ROI_POSITIVE_RATIO             0.33\n",
            "RPN_ANCHOR_RATIOS              [0.5, 1, 2]\n",
            "RPN_ANCHOR_SCALES              (32, 64, 128, 256, 512)\n",
            "RPN_ANCHOR_STRIDE              1\n",
            "RPN_BBOX_STD_DEV               [0.1 0.1 0.2 0.2]\n",
            "RPN_NMS_THRESHOLD              0.7\n",
            "RPN_TRAIN_ANCHORS_PER_IMAGE    256\n",
            "STEPS_PER_EPOCH                100\n",
            "TOP_DOWN_PYRAMID_SIZE          256\n",
            "TRAIN_BN                       False\n",
            "TRAIN_ROIS_PER_IMAGE           200\n",
            "USE_MINI_MASK                  True\n",
            "USE_RPN_ROIS                   True\n",
            "VALIDATION_STEPS               50\n",
            "WEIGHT_DECAY                   0.0001\n",
            "\n",
            "\n"
          ],
          "name": "stdout"
        }
      ]
    },
    {
      "cell_type": "code",
      "metadata": {
        "id": "Osmwd92HAjK2",
        "colab": {
          "base_uri": "https://localhost:8080/"
        },
        "outputId": "4603d289-f169-4f71-f4cd-198c6e1ae499"
      },
      "source": [
        "# Training dataset\n",
        "dataset_train = pineapple.PineappleDataset()\n",
        "dataset_train.load_pineapple(PINEAPPLE_DIR, \"train\")\n",
        "dataset_train.prepare()\n",
        "\n",
        "print(\"Images: {}\\nClasses: {}\".format(len(dataset_train.image_ids), dataset_train.class_names))"
      ],
      "execution_count": null,
      "outputs": [
        {
          "output_type": "stream",
          "text": [
            "Images: 112\n",
            "Classes: ['BG', 'pineapple']\n"
          ],
          "name": "stdout"
        }
      ]
    },
    {
      "cell_type": "code",
      "metadata": {
        "id": "FpTgRp5aDRKH",
        "colab": {
          "base_uri": "https://localhost:8080/"
        },
        "outputId": "40982da6-6ddd-475d-fde0-1006ec950bd8"
      },
      "source": [
        "# Validation dataset\n",
        "dataset_val = pineapple.PineappleDataset()\n",
        "dataset_val.load_pineapple(PINEAPPLE_DIR, \"val\")\n",
        "dataset_val.prepare()\n",
        "\n",
        "print(\"Images: {}\\nClasses: {}\".format(len(dataset_val.image_ids), dataset_val.class_names))"
      ],
      "execution_count": null,
      "outputs": [
        {
          "output_type": "stream",
          "text": [
            "Images: 32\n",
            "Classes: ['BG', 'pineapple']\n"
          ],
          "name": "stdout"
        }
      ]
    },
    {
      "cell_type": "markdown",
      "metadata": {
        "id": "ISu_A7n8BX2V"
      },
      "source": [
        "# Load model and starting weights"
      ]
    },
    {
      "cell_type": "code",
      "metadata": {
        "id": "Xh4S-yXmR_WC"
      },
      "source": [
        "# Local path to trained weights file\n",
        "COCO_MODEL_PATH = os.path.join(ROOT_DIR, \"mask_rcnn_coco.h5\")\n",
        "\n",
        "# Download COCO trained weights from Releases if needed\n",
        "if not os.path.exists(COCO_MODEL_PATH):\n",
        "    utils.download_trained_weights(COCO_MODEL_PATH)"
      ],
      "execution_count": null,
      "outputs": []
    },
    {
      "cell_type": "code",
      "metadata": {
        "id": "xmaN02XnSPYd"
      },
      "source": [
        "import tensorflow as tf\n",
        "\n",
        "# Create model in training mode using gpu\n",
        "with tf.device(\"/gpu:0\"):\n",
        "    model = modellib.MaskRCNN(mode=\"training\", config=config,model_dir=MODEL_DIR)\n",
        "\n",
        "# Which weights to start with?\n",
        "init_with = \"coco\"  # imagenet, coco\n",
        "\n",
        "if init_with == \"imagenet\":\n",
        "    model.load_weights(model.get_imagenet_weights(), by_name=True)\n",
        "elif init_with == \"coco\":\n",
        "    # Load weights trained on MS COCO, but skip layers that\n",
        "    # are different due to the different number of classes\n",
        "    # See README for instructions to download the COCO weights\n",
        "    model.load_weights(COCO_MODEL_PATH, by_name=True,exclude=[\"mrcnn_class_logits\", \"mrcnn_bbox_fc\", \"mrcnn_bbox\", \"mrcnn_mask\"])"
      ],
      "execution_count": null,
      "outputs": []
    },
    {
      "cell_type": "code",
      "metadata": {
        "id": "lBVUvYYDyXl4"
      },
      "source": [
        "import imgaug\n",
        "import imgaug.augmenters as iaa\n",
        "\n",
        "# set seed\n",
        "imgaug.seed(1)\n",
        "\n",
        "# define augmenter\n",
        "aug = iaa.Sequential([\n",
        "                      iaa.Fliplr(0.5),\n",
        "                      iaa.SomeOf((0,2), [\n",
        "                                         iaa.GaussianBlur(sigma=2),\n",
        "                                         iaa.AdditiveGaussianNoise(loc=0, scale=0.1*255),\n",
        "                                         iaa.Add((-50,50))\n",
        "                      ])\n",
        "])\n",
        "\n",
        "# i.e. each image has a 50% chance of being horizontally flipped\n",
        "# thereafter, between 0 and 2 of the listed operations will be performed\n",
        "# Add((-50,50)) adds a random number between -50 and 50 to all pixels of a given image"
      ],
      "execution_count": null,
      "outputs": []
    },
    {
      "cell_type": "code",
      "metadata": {
        "id": "oUCK_pnsCMsA",
        "colab": {
          "base_uri": "https://localhost:8080/"
        },
        "outputId": "d8722d5b-bf55-4b2d-8674-754e7934021f"
      },
      "source": [
        "# Train all layers\n",
        "model.train(dataset_train, dataset_val, \n",
        "            learning_rate=config.LEARNING_RATE, \n",
        "            epochs=30, \n",
        "            layers='all', \n",
        "            augmentation = aug)\n"
      ],
      "execution_count": null,
      "outputs": [
        {
          "output_type": "stream",
          "text": [
            "\n",
            "Starting at epoch 0. LR=0.001\n",
            "\n",
            "Checkpoint Path: /content/drive/My Drive/Colab Notebooks/Pines_Mask_RCNN/Mask_RCNN/logs/pineapple20201116T1748/mask_rcnn_pineapple_{epoch:04d}.h5\n",
            "Selecting layers to train\n",
            "conv1                  (Conv2D)\n",
            "bn_conv1               (BatchNorm)\n",
            "res2a_branch2a         (Conv2D)\n",
            "bn2a_branch2a          (BatchNorm)\n",
            "res2a_branch2b         (Conv2D)\n",
            "bn2a_branch2b          (BatchNorm)\n",
            "res2a_branch2c         (Conv2D)\n",
            "res2a_branch1          (Conv2D)\n",
            "bn2a_branch2c          (BatchNorm)\n",
            "bn2a_branch1           (BatchNorm)\n",
            "res2b_branch2a         (Conv2D)\n",
            "bn2b_branch2a          (BatchNorm)\n",
            "res2b_branch2b         (Conv2D)\n",
            "bn2b_branch2b          (BatchNorm)\n",
            "res2b_branch2c         (Conv2D)\n",
            "bn2b_branch2c          (BatchNorm)\n",
            "res2c_branch2a         (Conv2D)\n",
            "bn2c_branch2a          (BatchNorm)\n",
            "res2c_branch2b         (Conv2D)\n",
            "bn2c_branch2b          (BatchNorm)\n",
            "res2c_branch2c         (Conv2D)\n",
            "bn2c_branch2c          (BatchNorm)\n",
            "res3a_branch2a         (Conv2D)\n",
            "bn3a_branch2a          (BatchNorm)\n",
            "res3a_branch2b         (Conv2D)\n",
            "bn3a_branch2b          (BatchNorm)\n",
            "res3a_branch2c         (Conv2D)\n",
            "res3a_branch1          (Conv2D)\n",
            "bn3a_branch2c          (BatchNorm)\n",
            "bn3a_branch1           (BatchNorm)\n",
            "res3b_branch2a         (Conv2D)\n",
            "bn3b_branch2a          (BatchNorm)\n",
            "res3b_branch2b         (Conv2D)\n",
            "bn3b_branch2b          (BatchNorm)\n",
            "res3b_branch2c         (Conv2D)\n",
            "bn3b_branch2c          (BatchNorm)\n",
            "res3c_branch2a         (Conv2D)\n",
            "bn3c_branch2a          (BatchNorm)\n",
            "res3c_branch2b         (Conv2D)\n",
            "bn3c_branch2b          (BatchNorm)\n",
            "res3c_branch2c         (Conv2D)\n",
            "bn3c_branch2c          (BatchNorm)\n",
            "res3d_branch2a         (Conv2D)\n",
            "bn3d_branch2a          (BatchNorm)\n",
            "res3d_branch2b         (Conv2D)\n",
            "bn3d_branch2b          (BatchNorm)\n",
            "res3d_branch2c         (Conv2D)\n",
            "bn3d_branch2c          (BatchNorm)\n",
            "res4a_branch2a         (Conv2D)\n",
            "bn4a_branch2a          (BatchNorm)\n",
            "res4a_branch2b         (Conv2D)\n",
            "bn4a_branch2b          (BatchNorm)\n",
            "res4a_branch2c         (Conv2D)\n",
            "res4a_branch1          (Conv2D)\n",
            "bn4a_branch2c          (BatchNorm)\n",
            "bn4a_branch1           (BatchNorm)\n",
            "res4b_branch2a         (Conv2D)\n",
            "bn4b_branch2a          (BatchNorm)\n",
            "res4b_branch2b         (Conv2D)\n",
            "bn4b_branch2b          (BatchNorm)\n",
            "res4b_branch2c         (Conv2D)\n",
            "bn4b_branch2c          (BatchNorm)\n",
            "res4c_branch2a         (Conv2D)\n",
            "bn4c_branch2a          (BatchNorm)\n",
            "res4c_branch2b         (Conv2D)\n",
            "bn4c_branch2b          (BatchNorm)\n",
            "res4c_branch2c         (Conv2D)\n",
            "bn4c_branch2c          (BatchNorm)\n",
            "res4d_branch2a         (Conv2D)\n",
            "bn4d_branch2a          (BatchNorm)\n",
            "res4d_branch2b         (Conv2D)\n",
            "bn4d_branch2b          (BatchNorm)\n",
            "res4d_branch2c         (Conv2D)\n",
            "bn4d_branch2c          (BatchNorm)\n",
            "res4e_branch2a         (Conv2D)\n",
            "bn4e_branch2a          (BatchNorm)\n",
            "res4e_branch2b         (Conv2D)\n",
            "bn4e_branch2b          (BatchNorm)\n",
            "res4e_branch2c         (Conv2D)\n",
            "bn4e_branch2c          (BatchNorm)\n",
            "res4f_branch2a         (Conv2D)\n",
            "bn4f_branch2a          (BatchNorm)\n",
            "res4f_branch2b         (Conv2D)\n",
            "bn4f_branch2b          (BatchNorm)\n",
            "res4f_branch2c         (Conv2D)\n",
            "bn4f_branch2c          (BatchNorm)\n",
            "res5a_branch2a         (Conv2D)\n",
            "bn5a_branch2a          (BatchNorm)\n",
            "res5a_branch2b         (Conv2D)\n",
            "bn5a_branch2b          (BatchNorm)\n",
            "res5a_branch2c         (Conv2D)\n",
            "res5a_branch1          (Conv2D)\n",
            "bn5a_branch2c          (BatchNorm)\n",
            "bn5a_branch1           (BatchNorm)\n",
            "res5b_branch2a         (Conv2D)\n",
            "bn5b_branch2a          (BatchNorm)\n",
            "res5b_branch2b         (Conv2D)\n",
            "bn5b_branch2b          (BatchNorm)\n",
            "res5b_branch2c         (Conv2D)\n",
            "bn5b_branch2c          (BatchNorm)\n",
            "res5c_branch2a         (Conv2D)\n",
            "bn5c_branch2a          (BatchNorm)\n",
            "res5c_branch2b         (Conv2D)\n",
            "bn5c_branch2b          (BatchNorm)\n",
            "res5c_branch2c         (Conv2D)\n",
            "bn5c_branch2c          (BatchNorm)\n",
            "fpn_c5p5               (Conv2D)\n",
            "fpn_c4p4               (Conv2D)\n",
            "fpn_c3p3               (Conv2D)\n",
            "fpn_c2p2               (Conv2D)\n",
            "fpn_p5                 (Conv2D)\n",
            "fpn_p2                 (Conv2D)\n",
            "fpn_p3                 (Conv2D)\n",
            "fpn_p4                 (Conv2D)\n",
            "In model:  rpn_model\n",
            "    rpn_conv_shared        (Conv2D)\n",
            "    rpn_class_raw          (Conv2D)\n",
            "    rpn_bbox_pred          (Conv2D)\n",
            "mrcnn_mask_conv1       (TimeDistributed)\n",
            "mrcnn_mask_bn1         (TimeDistributed)\n",
            "mrcnn_mask_conv2       (TimeDistributed)\n",
            "mrcnn_mask_bn2         (TimeDistributed)\n",
            "mrcnn_class_conv1      (TimeDistributed)\n",
            "mrcnn_class_bn1        (TimeDistributed)\n",
            "mrcnn_mask_conv3       (TimeDistributed)\n",
            "mrcnn_mask_bn3         (TimeDistributed)\n",
            "mrcnn_class_conv2      (TimeDistributed)\n",
            "mrcnn_class_bn2        (TimeDistributed)\n",
            "mrcnn_mask_conv4       (TimeDistributed)\n",
            "mrcnn_mask_bn4         (TimeDistributed)\n",
            "mrcnn_bbox_fc          (TimeDistributed)\n",
            "mrcnn_mask_deconv      (TimeDistributed)\n",
            "mrcnn_class_logits     (TimeDistributed)\n",
            "mrcnn_mask             (TimeDistributed)\n",
            "WARNING:tensorflow:From /usr/local/lib/python3.6/dist-packages/keras/optimizers.py:711: The name tf.train.Optimizer is deprecated. Please use tf.compat.v1.train.Optimizer instead.\n",
            "\n"
          ],
          "name": "stdout"
        },
        {
          "output_type": "stream",
          "text": [
            "/tensorflow-1.15.2/python3.6/tensorflow_core/python/framework/indexed_slices.py:424: UserWarning: Converting sparse IndexedSlices to a dense Tensor of unknown shape. This may consume a large amount of memory.\n",
            "  \"Converting sparse IndexedSlices to a dense Tensor of unknown shape. \"\n",
            "/tensorflow-1.15.2/python3.6/tensorflow_core/python/framework/indexed_slices.py:424: UserWarning: Converting sparse IndexedSlices to a dense Tensor of unknown shape. This may consume a large amount of memory.\n",
            "  \"Converting sparse IndexedSlices to a dense Tensor of unknown shape. \"\n",
            "/tensorflow-1.15.2/python3.6/tensorflow_core/python/framework/indexed_slices.py:424: UserWarning: Converting sparse IndexedSlices to a dense Tensor of unknown shape. This may consume a large amount of memory.\n",
            "  \"Converting sparse IndexedSlices to a dense Tensor of unknown shape. \"\n"
          ],
          "name": "stderr"
        },
        {
          "output_type": "stream",
          "text": [
            "WARNING:tensorflow:From /usr/local/lib/python3.6/dist-packages/keras/backend/tensorflow_backend.py:899: The name tf.assign_add is deprecated. Please use tf.compat.v1.assign_add instead.\n",
            "\n",
            "WARNING:tensorflow:From /usr/local/lib/python3.6/dist-packages/keras/backend/tensorflow_backend.py:625: calling Constant.__init__ (from tensorflow.python.ops.init_ops) with dtype is deprecated and will be removed in a future version.\n",
            "Instructions for updating:\n",
            "Call initializer instance with the dtype argument instead of passing it to the constructor\n",
            "WARNING:tensorflow:From /usr/local/lib/python3.6/dist-packages/keras/backend/tensorflow_backend.py:886: The name tf.assign is deprecated. Please use tf.compat.v1.assign instead.\n",
            "\n",
            "WARNING:tensorflow:From /usr/local/lib/python3.6/dist-packages/keras/callbacks.py:705: The name tf.summary.merge_all is deprecated. Please use tf.compat.v1.summary.merge_all instead.\n",
            "\n",
            "WARNING:tensorflow:From /usr/local/lib/python3.6/dist-packages/keras/callbacks.py:708: The name tf.summary.FileWriter is deprecated. Please use tf.compat.v1.summary.FileWriter instead.\n",
            "\n"
          ],
          "name": "stdout"
        },
        {
          "output_type": "stream",
          "text": [
            "/usr/local/lib/python3.6/dist-packages/keras/engine/training.py:1987: UserWarning: Using a generator with `use_multiprocessing=True` and multiple workers may duplicate your data. Please consider using the`keras.utils.Sequence class.\n",
            "  UserWarning('Using a generator with `use_multiprocessing=True`'\n"
          ],
          "name": "stderr"
        },
        {
          "output_type": "stream",
          "text": [
            "Epoch 1/30\n",
            " 99/100 [============================>.] - ETA: 0s - loss: 0.9070 - rpn_class_loss: 0.0473 - rpn_bbox_loss: 0.1687 - mrcnn_class_loss: 0.2242 - mrcnn_bbox_loss: 0.2719 - mrcnn_mask_loss: 0.1949"
          ],
          "name": "stdout"
        },
        {
          "output_type": "stream",
          "text": [
            "/usr/local/lib/python3.6/dist-packages/keras/engine/training.py:2142: UserWarning: Using a generator with `use_multiprocessing=True` and multiple workers may duplicate your data. Please consider using the`keras.utils.Sequence class.\n",
            "  UserWarning('Using a generator with `use_multiprocessing=True`'\n"
          ],
          "name": "stderr"
        },
        {
          "output_type": "stream",
          "text": [
            "WARNING:tensorflow:From /usr/local/lib/python3.6/dist-packages/keras/callbacks.py:791: The name tf.Summary is deprecated. Please use tf.compat.v1.Summary instead.\n",
            "\n",
            "100/100 [==============================] - 204s - loss: 0.9026 - rpn_class_loss: 0.0469 - rpn_bbox_loss: 0.1684 - mrcnn_class_loss: 0.2233 - mrcnn_bbox_loss: 0.2698 - mrcnn_mask_loss: 0.1941 - val_loss: 0.3015 - val_rpn_class_loss: 0.0049 - val_rpn_bbox_loss: 0.0478 - val_mrcnn_class_loss: 0.0902 - val_mrcnn_bbox_loss: 0.0603 - val_mrcnn_mask_loss: 0.0983\n",
            "Epoch 2/30\n",
            "100/100 [==============================] - 97s - loss: 0.2990 - rpn_class_loss: 0.0065 - rpn_bbox_loss: 0.0456 - mrcnn_class_loss: 0.0961 - mrcnn_bbox_loss: 0.0546 - mrcnn_mask_loss: 0.0962 - val_loss: 0.2521 - val_rpn_class_loss: 0.0037 - val_rpn_bbox_loss: 0.0455 - val_mrcnn_class_loss: 0.0796 - val_mrcnn_bbox_loss: 0.0409 - val_mrcnn_mask_loss: 0.0824\n",
            "Epoch 3/30\n",
            "100/100 [==============================] - 97s - loss: 0.2632 - rpn_class_loss: 0.0053 - rpn_bbox_loss: 0.0366 - mrcnn_class_loss: 0.0935 - mrcnn_bbox_loss: 0.0404 - mrcnn_mask_loss: 0.0874 - val_loss: 0.2294 - val_rpn_class_loss: 0.0034 - val_rpn_bbox_loss: 0.0306 - val_mrcnn_class_loss: 0.0863 - val_mrcnn_bbox_loss: 0.0310 - val_mrcnn_mask_loss: 0.0781\n",
            "Epoch 4/30\n",
            "100/100 [==============================] - 97s - loss: 0.2466 - rpn_class_loss: 0.0040 - rpn_bbox_loss: 0.0351 - mrcnn_class_loss: 0.0861 - mrcnn_bbox_loss: 0.0371 - mrcnn_mask_loss: 0.0843 - val_loss: 0.1963 - val_rpn_class_loss: 0.0020 - val_rpn_bbox_loss: 0.0246 - val_mrcnn_class_loss: 0.0687 - val_mrcnn_bbox_loss: 0.0236 - val_mrcnn_mask_loss: 0.0774\n",
            "Epoch 5/30\n",
            "100/100 [==============================] - 93s - loss: 0.2270 - rpn_class_loss: 0.0033 - rpn_bbox_loss: 0.0313 - mrcnn_class_loss: 0.0773 - mrcnn_bbox_loss: 0.0288 - mrcnn_mask_loss: 0.0862 - val_loss: 0.2138 - val_rpn_class_loss: 0.0017 - val_rpn_bbox_loss: 0.0347 - val_mrcnn_class_loss: 0.0725 - val_mrcnn_bbox_loss: 0.0280 - val_mrcnn_mask_loss: 0.0768\n",
            "Epoch 6/30\n",
            "100/100 [==============================] - 95s - loss: 0.2053 - rpn_class_loss: 0.0019 - rpn_bbox_loss: 0.0264 - mrcnn_class_loss: 0.0662 - mrcnn_bbox_loss: 0.0279 - mrcnn_mask_loss: 0.0830 - val_loss: 0.1643 - val_rpn_class_loss: 9.8249e-04 - val_rpn_bbox_loss: 0.0219 - val_mrcnn_class_loss: 0.0388 - val_mrcnn_bbox_loss: 0.0238 - val_mrcnn_mask_loss: 0.0788\n",
            "Epoch 7/30\n",
            "100/100 [==============================] - 94s - loss: 0.1989 - rpn_class_loss: 0.0021 - rpn_bbox_loss: 0.0277 - mrcnn_class_loss: 0.0568 - mrcnn_bbox_loss: 0.0285 - mrcnn_mask_loss: 0.0838 - val_loss: 0.1734 - val_rpn_class_loss: 0.0013 - val_rpn_bbox_loss: 0.0213 - val_mrcnn_class_loss: 0.0545 - val_mrcnn_bbox_loss: 0.0244 - val_mrcnn_mask_loss: 0.0718\n",
            "Epoch 8/30\n",
            "100/100 [==============================] - 96s - loss: 0.1900 - rpn_class_loss: 0.0017 - rpn_bbox_loss: 0.0212 - mrcnn_class_loss: 0.0623 - mrcnn_bbox_loss: 0.0244 - mrcnn_mask_loss: 0.0805 - val_loss: 0.1823 - val_rpn_class_loss: 0.0010 - val_rpn_bbox_loss: 0.0208 - val_mrcnn_class_loss: 0.0650 - val_mrcnn_bbox_loss: 0.0193 - val_mrcnn_mask_loss: 0.0762\n",
            "Epoch 9/30\n",
            "100/100 [==============================] - 95s - loss: 0.1816 - rpn_class_loss: 0.0013 - rpn_bbox_loss: 0.0225 - mrcnn_class_loss: 0.0553 - mrcnn_bbox_loss: 0.0218 - mrcnn_mask_loss: 0.0807 - val_loss: 0.1527 - val_rpn_class_loss: 6.5359e-04 - val_rpn_bbox_loss: 0.0197 - val_mrcnn_class_loss: 0.0388 - val_mrcnn_bbox_loss: 0.0192 - val_mrcnn_mask_loss: 0.0743\n",
            "Epoch 10/30\n",
            "100/100 [==============================] - 96s - loss: 0.1598 - rpn_class_loss: 0.0012 - rpn_bbox_loss: 0.0185 - mrcnn_class_loss: 0.0414 - mrcnn_bbox_loss: 0.0194 - mrcnn_mask_loss: 0.0793 - val_loss: 0.1467 - val_rpn_class_loss: 5.7083e-04 - val_rpn_bbox_loss: 0.0198 - val_mrcnn_class_loss: 0.0302 - val_mrcnn_bbox_loss: 0.0192 - val_mrcnn_mask_loss: 0.0770\n",
            "Epoch 11/30\n",
            "100/100 [==============================] - 93s - loss: 0.1593 - rpn_class_loss: 0.0011 - rpn_bbox_loss: 0.0196 - mrcnn_class_loss: 0.0344 - mrcnn_bbox_loss: 0.0206 - mrcnn_mask_loss: 0.0836 - val_loss: 0.1707 - val_rpn_class_loss: 8.2547e-04 - val_rpn_bbox_loss: 0.0175 - val_mrcnn_class_loss: 0.0505 - val_mrcnn_bbox_loss: 0.0201 - val_mrcnn_mask_loss: 0.0817\n",
            "Epoch 12/30\n",
            "100/100 [==============================] - 94s - loss: 0.1496 - rpn_class_loss: 7.3842e-04 - rpn_bbox_loss: 0.0192 - mrcnn_class_loss: 0.0316 - mrcnn_bbox_loss: 0.0193 - mrcnn_mask_loss: 0.0788 - val_loss: 0.1439 - val_rpn_class_loss: 7.8785e-04 - val_rpn_bbox_loss: 0.0195 - val_mrcnn_class_loss: 0.0317 - val_mrcnn_bbox_loss: 0.0147 - val_mrcnn_mask_loss: 0.0772\n",
            "Epoch 13/30\n",
            "100/100 [==============================] - 92s - loss: 0.1580 - rpn_class_loss: 8.7481e-04 - rpn_bbox_loss: 0.0195 - mrcnn_class_loss: 0.0393 - mrcnn_bbox_loss: 0.0179 - mrcnn_mask_loss: 0.0804 - val_loss: 0.1462 - val_rpn_class_loss: 8.0271e-04 - val_rpn_bbox_loss: 0.0196 - val_mrcnn_class_loss: 0.0341 - val_mrcnn_bbox_loss: 0.0203 - val_mrcnn_mask_loss: 0.0714\n",
            "Epoch 14/30\n",
            "100/100 [==============================] - 93s - loss: 0.1409 - rpn_class_loss: 9.8773e-04 - rpn_bbox_loss: 0.0164 - mrcnn_class_loss: 0.0318 - mrcnn_bbox_loss: 0.0164 - mrcnn_mask_loss: 0.0753 - val_loss: 0.1660 - val_rpn_class_loss: 6.6768e-04 - val_rpn_bbox_loss: 0.0214 - val_mrcnn_class_loss: 0.0466 - val_mrcnn_bbox_loss: 0.0228 - val_mrcnn_mask_loss: 0.0745\n",
            "Epoch 15/30\n",
            "100/100 [==============================] - 93s - loss: 0.1408 - rpn_class_loss: 5.7902e-04 - rpn_bbox_loss: 0.0164 - mrcnn_class_loss: 0.0296 - mrcnn_bbox_loss: 0.0159 - mrcnn_mask_loss: 0.0784 - val_loss: 0.1357 - val_rpn_class_loss: 0.0010 - val_rpn_bbox_loss: 0.0174 - val_mrcnn_class_loss: 0.0305 - val_mrcnn_bbox_loss: 0.0140 - val_mrcnn_mask_loss: 0.0728\n",
            "Epoch 16/30\n",
            "100/100 [==============================] - 94s - loss: 0.1323 - rpn_class_loss: 8.9543e-04 - rpn_bbox_loss: 0.0156 - mrcnn_class_loss: 0.0195 - mrcnn_bbox_loss: 0.0158 - mrcnn_mask_loss: 0.0804 - val_loss: 0.1283 - val_rpn_class_loss: 5.1793e-04 - val_rpn_bbox_loss: 0.0213 - val_mrcnn_class_loss: 0.0156 - val_mrcnn_bbox_loss: 0.0135 - val_mrcnn_mask_loss: 0.0774\n",
            "Epoch 17/30\n",
            "100/100 [==============================] - 96s - loss: 0.1324 - rpn_class_loss: 6.3556e-04 - rpn_bbox_loss: 0.0156 - mrcnn_class_loss: 0.0228 - mrcnn_bbox_loss: 0.0151 - mrcnn_mask_loss: 0.0783 - val_loss: 0.1396 - val_rpn_class_loss: 6.1582e-04 - val_rpn_bbox_loss: 0.0187 - val_mrcnn_class_loss: 0.0272 - val_mrcnn_bbox_loss: 0.0185 - val_mrcnn_mask_loss: 0.0746\n",
            "Epoch 18/30\n",
            "100/100 [==============================] - 92s - loss: 0.1290 - rpn_class_loss: 5.1267e-04 - rpn_bbox_loss: 0.0144 - mrcnn_class_loss: 0.0227 - mrcnn_bbox_loss: 0.0141 - mrcnn_mask_loss: 0.0772 - val_loss: 0.1449 - val_rpn_class_loss: 8.6806e-04 - val_rpn_bbox_loss: 0.0258 - val_mrcnn_class_loss: 0.0212 - val_mrcnn_bbox_loss: 0.0212 - val_mrcnn_mask_loss: 0.0759\n",
            "Epoch 19/30\n",
            "100/100 [==============================] - 94s - loss: 0.1188 - rpn_class_loss: 3.9063e-04 - rpn_bbox_loss: 0.0134 - mrcnn_class_loss: 0.0165 - mrcnn_bbox_loss: 0.0125 - mrcnn_mask_loss: 0.0760 - val_loss: 0.1296 - val_rpn_class_loss: 5.6516e-04 - val_rpn_bbox_loss: 0.0171 - val_mrcnn_class_loss: 0.0192 - val_mrcnn_bbox_loss: 0.0127 - val_mrcnn_mask_loss: 0.0801\n",
            "Epoch 20/30\n",
            "100/100 [==============================] - 97s - loss: 0.1228 - rpn_class_loss: 4.8896e-04 - rpn_bbox_loss: 0.0128 - mrcnn_class_loss: 0.0177 - mrcnn_bbox_loss: 0.0126 - mrcnn_mask_loss: 0.0792 - val_loss: 0.1236 - val_rpn_class_loss: 8.2207e-04 - val_rpn_bbox_loss: 0.0150 - val_mrcnn_class_loss: 0.0197 - val_mrcnn_bbox_loss: 0.0113 - val_mrcnn_mask_loss: 0.0767\n",
            "Epoch 21/30\n",
            "100/100 [==============================] - 92s - loss: 0.1237 - rpn_class_loss: 3.6792e-04 - rpn_bbox_loss: 0.0133 - mrcnn_class_loss: 0.0180 - mrcnn_bbox_loss: 0.0135 - mrcnn_mask_loss: 0.0785 - val_loss: 0.1306 - val_rpn_class_loss: 3.6879e-04 - val_rpn_bbox_loss: 0.0196 - val_mrcnn_class_loss: 0.0220 - val_mrcnn_bbox_loss: 0.0157 - val_mrcnn_mask_loss: 0.0728\n",
            "Epoch 22/30\n",
            "100/100 [==============================] - 95s - loss: 0.1098 - rpn_class_loss: 3.4128e-04 - rpn_bbox_loss: 0.0116 - mrcnn_class_loss: 0.0127 - mrcnn_bbox_loss: 0.0107 - mrcnn_mask_loss: 0.0745 - val_loss: 0.1175 - val_rpn_class_loss: 8.3365e-04 - val_rpn_bbox_loss: 0.0177 - val_mrcnn_class_loss: 0.0129 - val_mrcnn_bbox_loss: 0.0117 - val_mrcnn_mask_loss: 0.0743\n",
            "Epoch 23/30\n",
            "100/100 [==============================] - 95s - loss: 0.1070 - rpn_class_loss: 3.1355e-04 - rpn_bbox_loss: 0.0112 - mrcnn_class_loss: 0.0127 - mrcnn_bbox_loss: 0.0098 - mrcnn_mask_loss: 0.0729 - val_loss: 0.1302 - val_rpn_class_loss: 7.7534e-04 - val_rpn_bbox_loss: 0.0176 - val_mrcnn_class_loss: 0.0221 - val_mrcnn_bbox_loss: 0.0125 - val_mrcnn_mask_loss: 0.0772\n",
            "Epoch 24/30\n",
            "100/100 [==============================] - 95s - loss: 0.1137 - rpn_class_loss: 2.5235e-04 - rpn_bbox_loss: 0.0112 - mrcnn_class_loss: 0.0149 - mrcnn_bbox_loss: 0.0109 - mrcnn_mask_loss: 0.0764 - val_loss: 0.1180 - val_rpn_class_loss: 7.5470e-04 - val_rpn_bbox_loss: 0.0152 - val_mrcnn_class_loss: 0.0134 - val_mrcnn_bbox_loss: 0.0121 - val_mrcnn_mask_loss: 0.0765\n",
            "Epoch 25/30\n",
            "100/100 [==============================] - 97s - loss: 0.1137 - rpn_class_loss: 2.8689e-04 - rpn_bbox_loss: 0.0115 - mrcnn_class_loss: 0.0156 - mrcnn_bbox_loss: 0.0110 - mrcnn_mask_loss: 0.0753 - val_loss: 0.1343 - val_rpn_class_loss: 5.7863e-04 - val_rpn_bbox_loss: 0.0174 - val_mrcnn_class_loss: 0.0251 - val_mrcnn_bbox_loss: 0.0153 - val_mrcnn_mask_loss: 0.0758\n",
            "Epoch 26/30\n",
            "100/100 [==============================] - 93s - loss: 0.1087 - rpn_class_loss: 2.9222e-04 - rpn_bbox_loss: 0.0104 - mrcnn_class_loss: 0.0148 - mrcnn_bbox_loss: 0.0096 - mrcnn_mask_loss: 0.0736 - val_loss: 0.1175 - val_rpn_class_loss: 3.9629e-04 - val_rpn_bbox_loss: 0.0156 - val_mrcnn_class_loss: 0.0133 - val_mrcnn_bbox_loss: 0.0127 - val_mrcnn_mask_loss: 0.0756\n",
            "Epoch 27/30\n",
            "100/100 [==============================] - 96s - loss: 0.1112 - rpn_class_loss: 2.8402e-04 - rpn_bbox_loss: 0.0116 - mrcnn_class_loss: 0.0144 - mrcnn_bbox_loss: 0.0105 - mrcnn_mask_loss: 0.0745 - val_loss: 0.1205 - val_rpn_class_loss: 4.9226e-04 - val_rpn_bbox_loss: 0.0196 - val_mrcnn_class_loss: 0.0120 - val_mrcnn_bbox_loss: 0.0140 - val_mrcnn_mask_loss: 0.0745\n",
            "Epoch 28/30\n",
            "100/100 [==============================] - 95s - loss: 0.1048 - rpn_class_loss: 2.7890e-04 - rpn_bbox_loss: 0.0103 - mrcnn_class_loss: 0.0134 - mrcnn_bbox_loss: 0.0088 - mrcnn_mask_loss: 0.0720 - val_loss: 0.1138 - val_rpn_class_loss: 5.8368e-04 - val_rpn_bbox_loss: 0.0158 - val_mrcnn_class_loss: 0.0122 - val_mrcnn_bbox_loss: 0.0109 - val_mrcnn_mask_loss: 0.0743\n",
            "Epoch 29/30\n",
            "100/100 [==============================] - 94s - loss: 0.1141 - rpn_class_loss: 2.1999e-04 - rpn_bbox_loss: 0.0110 - mrcnn_class_loss: 0.0175 - mrcnn_bbox_loss: 0.0107 - mrcnn_mask_loss: 0.0748 - val_loss: 0.1065 - val_rpn_class_loss: 6.3355e-04 - val_rpn_bbox_loss: 0.0153 - val_mrcnn_class_loss: 0.0067 - val_mrcnn_bbox_loss: 0.0096 - val_mrcnn_mask_loss: 0.0742\n",
            "Epoch 30/30\n",
            "100/100 [==============================] - 93s - loss: 0.1022 - rpn_class_loss: 2.1509e-04 - rpn_bbox_loss: 0.0098 - mrcnn_class_loss: 0.0123 - mrcnn_bbox_loss: 0.0089 - mrcnn_mask_loss: 0.0710 - val_loss: 0.1198 - val_rpn_class_loss: 2.4464e-04 - val_rpn_bbox_loss: 0.0136 - val_mrcnn_class_loss: 0.0191 - val_mrcnn_bbox_loss: 0.0117 - val_mrcnn_mask_loss: 0.0752\n"
          ],
          "name": "stdout"
        }
      ]
    }
  ]
}