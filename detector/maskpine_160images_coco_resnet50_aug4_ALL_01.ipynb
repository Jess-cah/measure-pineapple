{
  "nbformat": 4,
  "nbformat_minor": 0,
  "metadata": {
    "colab": {
      "name": "maskpine_160images_coco_resnet50_aug4_ALL_01.ipynb",
      "provenance": [],
      "collapsed_sections": [],
      "toc_visible": true,
      "mount_file_id": "19uCbZqP5eOu3TilHNdETi0OM93k2EsMO",
      "authorship_tag": "ABX9TyOct8oV+0C3hA+Wkj8B05xo",
      "include_colab_link": true
    },
    "kernelspec": {
      "name": "python3",
      "display_name": "Python 3"
    }
  },
  "cells": [
    {
      "cell_type": "markdown",
      "metadata": {
        "id": "view-in-github",
        "colab_type": "text"
      },
      "source": [
        "<a href=\"https://colab.research.google.com/github/Jess-cah/measure-pineapple/blob/main/detector/maskpine_160images_coco_resnet50_aug4_ALL_01.ipynb\" target=\"_parent\"><img src=\"https://colab.research.google.com/assets/colab-badge.svg\" alt=\"Open In Colab\"/></a>"
      ]
    },
    {
      "cell_type": "markdown",
      "metadata": {
        "id": "wBypReINvRBS"
      },
      "source": [
        "This workbook goes through the training of mask r-cnn for 160 images (112/32/16 train/val/test i.e. 70/20/10 percent split) obtained from Summerpride factory.\n",
        "\n",
        "Using COCO starting weights, RESNET50 backbone and all AUGMENTATION techniques from previous notebooks.\n",
        "\n",
        "(i.e. FLiplr, Gaussian Noise and Blurring, as well as colour)\n",
        "\n",
        "Use a GPU runtime for the entire workbook."
      ]
    },
    {
      "cell_type": "code",
      "metadata": {
        "id": "1GBL3f8la_Lc",
        "colab": {
          "base_uri": "https://localhost:8080/"
        },
        "outputId": "de84ea93-6356-4091-9804-9c36a4f610a6"
      },
      "source": [
        "from google.colab import drive\n",
        "drive.mount('/content/drive')"
      ],
      "execution_count": null,
      "outputs": [
        {
          "output_type": "stream",
          "text": [
            "Mounted at /content/drive\n"
          ],
          "name": "stdout"
        }
      ]
    },
    {
      "cell_type": "code",
      "metadata": {
        "id": "itCL0uIXbgO2",
        "colab": {
          "base_uri": "https://localhost:8080/",
          "height": 35
        },
        "outputId": "a9892942-0ccf-4235-bda0-ad962448afbe"
      },
      "source": [
        "import os\n",
        "import sys\n",
        "import random\n",
        "import math\n",
        "import re\n",
        "import time\n",
        "import numpy as np\n",
        "import cv2\n",
        "import matplotlib\n",
        "import matplotlib.pyplot as plt\n",
        "\n",
        "os.getcwd()"
      ],
      "execution_count": null,
      "outputs": [
        {
          "output_type": "execute_result",
          "data": {
            "application/vnd.google.colaboratory.intrinsic+json": {
              "type": "string"
            },
            "text/plain": [
              "'/content'"
            ]
          },
          "metadata": {
            "tags": []
          },
          "execution_count": 2
        }
      ]
    },
    {
      "cell_type": "code",
      "metadata": {
        "id": "BBZdQQIdbq5k",
        "colab": {
          "base_uri": "https://localhost:8080/",
          "height": 35
        },
        "outputId": "ede42e74-5bb7-4116-ee2b-0db00fb14f36"
      },
      "source": [
        "os.chdir(\"/content/drive/My Drive/Colab Notebooks/Pines_Mask_RCNN/Mask_RCNN\")\n",
        "os.getcwd()"
      ],
      "execution_count": null,
      "outputs": [
        {
          "output_type": "execute_result",
          "data": {
            "application/vnd.google.colaboratory.intrinsic+json": {
              "type": "string"
            },
            "text/plain": [
              "'/content/drive/My Drive/Colab Notebooks/Pines_Mask_RCNN/Mask_RCNN'"
            ]
          },
          "metadata": {
            "tags": []
          },
          "execution_count": 3
        }
      ]
    },
    {
      "cell_type": "code",
      "metadata": {
        "id": "C7FwJhEGb2wn",
        "colab": {
          "base_uri": "https://localhost:8080/"
        },
        "outputId": "b3a6215f-aee6-4a24-b7db-f818e9ecd3e0"
      },
      "source": [
        "!pip install -r requirements.txt"
      ],
      "execution_count": null,
      "outputs": [
        {
          "output_type": "stream",
          "text": [
            "Requirement already satisfied: numpy in /usr/local/lib/python3.6/dist-packages (from -r requirements.txt (line 1)) (1.18.5)\n",
            "Requirement already satisfied: scipy in /usr/local/lib/python3.6/dist-packages (from -r requirements.txt (line 2)) (1.4.1)\n",
            "Requirement already satisfied: Pillow in /usr/local/lib/python3.6/dist-packages (from -r requirements.txt (line 3)) (7.0.0)\n",
            "Requirement already satisfied: cython in /usr/local/lib/python3.6/dist-packages (from -r requirements.txt (line 4)) (0.29.21)\n",
            "Requirement already satisfied: matplotlib in /usr/local/lib/python3.6/dist-packages (from -r requirements.txt (line 5)) (3.2.2)\n",
            "Requirement already satisfied: scikit-image in /usr/local/lib/python3.6/dist-packages (from -r requirements.txt (line 6)) (0.16.2)\n",
            "Collecting tensorflow==1.13.1\n",
            "\u001b[?25l  Downloading https://files.pythonhosted.org/packages/77/63/a9fa76de8dffe7455304c4ed635be4aa9c0bacef6e0633d87d5f54530c5c/tensorflow-1.13.1-cp36-cp36m-manylinux1_x86_64.whl (92.5MB)\n",
            "\u001b[K     |████████████████████████████████| 92.5MB 44kB/s \n",
            "\u001b[?25hCollecting keras==2.1.2\n",
            "\u001b[?25l  Downloading https://files.pythonhosted.org/packages/68/89/58ee5f56a9c26957d97217db41780ebedca3154392cb903c3f8a08a52208/Keras-2.1.2-py2.py3-none-any.whl (304kB)\n",
            "\u001b[K     |████████████████████████████████| 307kB 47.5MB/s \n",
            "\u001b[?25hRequirement already satisfied: opencv-python in /usr/local/lib/python3.6/dist-packages (from -r requirements.txt (line 9)) (4.1.2.30)\n",
            "Requirement already satisfied: h5py in /usr/local/lib/python3.6/dist-packages (from -r requirements.txt (line 10)) (2.10.0)\n",
            "Requirement already satisfied: imgaug in /usr/local/lib/python3.6/dist-packages (from -r requirements.txt (line 11)) (0.2.9)\n",
            "Requirement already satisfied: IPython[all] in /usr/local/lib/python3.6/dist-packages (from -r requirements.txt (line 12)) (5.5.0)\n",
            "Requirement already satisfied: kiwisolver>=1.0.1 in /usr/local/lib/python3.6/dist-packages (from matplotlib->-r requirements.txt (line 5)) (1.3.1)\n",
            "Requirement already satisfied: pyparsing!=2.0.4,!=2.1.2,!=2.1.6,>=2.0.1 in /usr/local/lib/python3.6/dist-packages (from matplotlib->-r requirements.txt (line 5)) (2.4.7)\n",
            "Requirement already satisfied: cycler>=0.10 in /usr/local/lib/python3.6/dist-packages (from matplotlib->-r requirements.txt (line 5)) (0.10.0)\n",
            "Requirement already satisfied: python-dateutil>=2.1 in /usr/local/lib/python3.6/dist-packages (from matplotlib->-r requirements.txt (line 5)) (2.8.1)\n",
            "Requirement already satisfied: PyWavelets>=0.4.0 in /usr/local/lib/python3.6/dist-packages (from scikit-image->-r requirements.txt (line 6)) (1.1.1)\n",
            "Requirement already satisfied: imageio>=2.3.0 in /usr/local/lib/python3.6/dist-packages (from scikit-image->-r requirements.txt (line 6)) (2.4.1)\n",
            "Requirement already satisfied: networkx>=2.0 in /usr/local/lib/python3.6/dist-packages (from scikit-image->-r requirements.txt (line 6)) (2.5)\n",
            "Requirement already satisfied: gast>=0.2.0 in /usr/local/lib/python3.6/dist-packages (from tensorflow==1.13.1->-r requirements.txt (line 7)) (0.3.3)\n",
            "Collecting keras-applications>=1.0.6\n",
            "\u001b[?25l  Downloading https://files.pythonhosted.org/packages/71/e3/19762fdfc62877ae9102edf6342d71b28fbfd9dea3d2f96a882ce099b03f/Keras_Applications-1.0.8-py3-none-any.whl (50kB)\n",
            "\u001b[K     |████████████████████████████████| 51kB 7.1MB/s \n",
            "\u001b[?25hCollecting tensorflow-estimator<1.14.0rc0,>=1.13.0\n",
            "\u001b[?25l  Downloading https://files.pythonhosted.org/packages/bb/48/13f49fc3fa0fdf916aa1419013bb8f2ad09674c275b4046d5ee669a46873/tensorflow_estimator-1.13.0-py2.py3-none-any.whl (367kB)\n",
            "\u001b[K     |████████████████████████████████| 368kB 46.8MB/s \n",
            "\u001b[?25hRequirement already satisfied: termcolor>=1.1.0 in /usr/local/lib/python3.6/dist-packages (from tensorflow==1.13.1->-r requirements.txt (line 7)) (1.1.0)\n",
            "Requirement already satisfied: wheel>=0.26 in /usr/local/lib/python3.6/dist-packages (from tensorflow==1.13.1->-r requirements.txt (line 7)) (0.35.1)\n",
            "Requirement already satisfied: absl-py>=0.1.6 in /usr/local/lib/python3.6/dist-packages (from tensorflow==1.13.1->-r requirements.txt (line 7)) (0.10.0)\n",
            "Requirement already satisfied: astor>=0.6.0 in /usr/local/lib/python3.6/dist-packages (from tensorflow==1.13.1->-r requirements.txt (line 7)) (0.8.1)\n",
            "Requirement already satisfied: keras-preprocessing>=1.0.5 in /usr/local/lib/python3.6/dist-packages (from tensorflow==1.13.1->-r requirements.txt (line 7)) (1.1.2)\n",
            "Requirement already satisfied: grpcio>=1.8.6 in /usr/local/lib/python3.6/dist-packages (from tensorflow==1.13.1->-r requirements.txt (line 7)) (1.33.2)\n",
            "Requirement already satisfied: protobuf>=3.6.1 in /usr/local/lib/python3.6/dist-packages (from tensorflow==1.13.1->-r requirements.txt (line 7)) (3.12.4)\n",
            "Collecting tensorboard<1.14.0,>=1.13.0\n",
            "\u001b[?25l  Downloading https://files.pythonhosted.org/packages/0f/39/bdd75b08a6fba41f098b6cb091b9e8c7a80e1b4d679a581a0ccd17b10373/tensorboard-1.13.1-py3-none-any.whl (3.2MB)\n",
            "\u001b[K     |████████████████████████████████| 3.2MB 45.6MB/s \n",
            "\u001b[?25hRequirement already satisfied: six>=1.10.0 in /usr/local/lib/python3.6/dist-packages (from tensorflow==1.13.1->-r requirements.txt (line 7)) (1.15.0)\n",
            "Requirement already satisfied: pyyaml in /usr/local/lib/python3.6/dist-packages (from keras==2.1.2->-r requirements.txt (line 8)) (3.13)\n",
            "Requirement already satisfied: Shapely in /usr/local/lib/python3.6/dist-packages (from imgaug->-r requirements.txt (line 11)) (1.7.1)\n",
            "Requirement already satisfied: setuptools>=18.5 in /usr/local/lib/python3.6/dist-packages (from IPython[all]->-r requirements.txt (line 12)) (50.3.2)\n",
            "Requirement already satisfied: traitlets>=4.2 in /usr/local/lib/python3.6/dist-packages (from IPython[all]->-r requirements.txt (line 12)) (4.3.3)\n",
            "Requirement already satisfied: decorator in /usr/local/lib/python3.6/dist-packages (from IPython[all]->-r requirements.txt (line 12)) (4.4.2)\n",
            "Requirement already satisfied: prompt-toolkit<2.0.0,>=1.0.4 in /usr/local/lib/python3.6/dist-packages (from IPython[all]->-r requirements.txt (line 12)) (1.0.18)\n",
            "Requirement already satisfied: simplegeneric>0.8 in /usr/local/lib/python3.6/dist-packages (from IPython[all]->-r requirements.txt (line 12)) (0.8.1)\n",
            "Requirement already satisfied: pickleshare in /usr/local/lib/python3.6/dist-packages (from IPython[all]->-r requirements.txt (line 12)) (0.7.5)\n",
            "Requirement already satisfied: pygments in /usr/local/lib/python3.6/dist-packages (from IPython[all]->-r requirements.txt (line 12)) (2.6.1)\n",
            "Requirement already satisfied: pexpect; sys_platform != \"win32\" in /usr/local/lib/python3.6/dist-packages (from IPython[all]->-r requirements.txt (line 12)) (4.8.0)\n",
            "Requirement already satisfied: ipywidgets; extra == \"all\" in /usr/local/lib/python3.6/dist-packages (from IPython[all]->-r requirements.txt (line 12)) (7.5.1)\n",
            "Collecting ipyparallel; extra == \"all\"\n",
            "\u001b[?25l  Downloading https://files.pythonhosted.org/packages/3b/e9/03a9189eb39276396309faf28bf833b4328befe4513bbf375b811a36a076/ipyparallel-6.3.0-py3-none-any.whl (199kB)\n",
            "\u001b[K     |████████████████████████████████| 204kB 49.2MB/s \n",
            "\u001b[?25hRequirement already satisfied: nbformat; extra == \"all\" in /usr/local/lib/python3.6/dist-packages (from IPython[all]->-r requirements.txt (line 12)) (5.0.8)\n",
            "Requirement already satisfied: testpath; extra == \"all\" in /usr/local/lib/python3.6/dist-packages (from IPython[all]->-r requirements.txt (line 12)) (0.4.4)\n",
            "Requirement already satisfied: notebook; extra == \"all\" in /usr/local/lib/python3.6/dist-packages (from IPython[all]->-r requirements.txt (line 12)) (5.3.1)\n",
            "Requirement already satisfied: ipykernel; extra == \"all\" in /usr/local/lib/python3.6/dist-packages (from IPython[all]->-r requirements.txt (line 12)) (4.10.1)\n",
            "Requirement already satisfied: nbconvert; extra == \"all\" in /usr/local/lib/python3.6/dist-packages (from IPython[all]->-r requirements.txt (line 12)) (5.6.1)\n",
            "Requirement already satisfied: requests; extra == \"all\" in /usr/local/lib/python3.6/dist-packages (from IPython[all]->-r requirements.txt (line 12)) (2.23.0)\n",
            "Requirement already satisfied: Sphinx>=1.3; extra == \"all\" in /usr/local/lib/python3.6/dist-packages (from IPython[all]->-r requirements.txt (line 12)) (1.8.5)\n",
            "Collecting nose>=0.10.1; extra == \"all\"\n",
            "\u001b[?25l  Downloading https://files.pythonhosted.org/packages/15/d8/dd071918c040f50fa1cf80da16423af51ff8ce4a0f2399b7bf8de45ac3d9/nose-1.3.7-py3-none-any.whl (154kB)\n",
            "\u001b[K     |████████████████████████████████| 163kB 52.4MB/s \n",
            "\u001b[?25hRequirement already satisfied: qtconsole; extra == \"all\" in /usr/local/lib/python3.6/dist-packages (from IPython[all]->-r requirements.txt (line 12)) (4.7.7)\n",
            "Collecting mock>=2.0.0\n",
            "  Downloading https://files.pythonhosted.org/packages/cd/74/d72daf8dff5b6566db857cfd088907bb0355f5dd2914c4b3ef065c790735/mock-4.0.2-py3-none-any.whl\n",
            "Requirement already satisfied: werkzeug>=0.11.15 in /usr/local/lib/python3.6/dist-packages (from tensorboard<1.14.0,>=1.13.0->tensorflow==1.13.1->-r requirements.txt (line 7)) (1.0.1)\n",
            "Requirement already satisfied: markdown>=2.6.8 in /usr/local/lib/python3.6/dist-packages (from tensorboard<1.14.0,>=1.13.0->tensorflow==1.13.1->-r requirements.txt (line 7)) (3.3.3)\n",
            "Requirement already satisfied: ipython-genutils in /usr/local/lib/python3.6/dist-packages (from traitlets>=4.2->IPython[all]->-r requirements.txt (line 12)) (0.2.0)\n",
            "Requirement already satisfied: wcwidth in /usr/local/lib/python3.6/dist-packages (from prompt-toolkit<2.0.0,>=1.0.4->IPython[all]->-r requirements.txt (line 12)) (0.2.5)\n",
            "Requirement already satisfied: ptyprocess>=0.5 in /usr/local/lib/python3.6/dist-packages (from pexpect; sys_platform != \"win32\"->IPython[all]->-r requirements.txt (line 12)) (0.6.0)\n",
            "Requirement already satisfied: widgetsnbextension~=3.5.0 in /usr/local/lib/python3.6/dist-packages (from ipywidgets; extra == \"all\"->IPython[all]->-r requirements.txt (line 12)) (3.5.1)\n",
            "Requirement already satisfied: tornado>=4 in /usr/local/lib/python3.6/dist-packages (from ipyparallel; extra == \"all\"->IPython[all]->-r requirements.txt (line 12)) (5.1.1)\n",
            "Requirement already satisfied: pyzmq>=13 in /usr/local/lib/python3.6/dist-packages (from ipyparallel; extra == \"all\"->IPython[all]->-r requirements.txt (line 12)) (19.0.2)\n",
            "Requirement already satisfied: jupyter-client in /usr/local/lib/python3.6/dist-packages (from ipyparallel; extra == \"all\"->IPython[all]->-r requirements.txt (line 12)) (5.3.5)\n",
            "Requirement already satisfied: jupyter-core in /usr/local/lib/python3.6/dist-packages (from nbformat; extra == \"all\"->IPython[all]->-r requirements.txt (line 12)) (4.6.3)\n",
            "Requirement already satisfied: jsonschema!=2.5.0,>=2.4 in /usr/local/lib/python3.6/dist-packages (from nbformat; extra == \"all\"->IPython[all]->-r requirements.txt (line 12)) (2.6.0)\n",
            "Requirement already satisfied: Send2Trash in /usr/local/lib/python3.6/dist-packages (from notebook; extra == \"all\"->IPython[all]->-r requirements.txt (line 12)) (1.5.0)\n",
            "Requirement already satisfied: terminado>=0.8.1 in /usr/local/lib/python3.6/dist-packages (from notebook; extra == \"all\"->IPython[all]->-r requirements.txt (line 12)) (0.9.1)\n",
            "Requirement already satisfied: jinja2 in /usr/local/lib/python3.6/dist-packages (from notebook; extra == \"all\"->IPython[all]->-r requirements.txt (line 12)) (2.11.2)\n",
            "Requirement already satisfied: mistune<2,>=0.8.1 in /usr/local/lib/python3.6/dist-packages (from nbconvert; extra == \"all\"->IPython[all]->-r requirements.txt (line 12)) (0.8.4)\n",
            "Requirement already satisfied: bleach in /usr/local/lib/python3.6/dist-packages (from nbconvert; extra == \"all\"->IPython[all]->-r requirements.txt (line 12)) (3.2.1)\n",
            "Requirement already satisfied: entrypoints>=0.2.2 in /usr/local/lib/python3.6/dist-packages (from nbconvert; extra == \"all\"->IPython[all]->-r requirements.txt (line 12)) (0.3)\n",
            "Requirement already satisfied: defusedxml in /usr/local/lib/python3.6/dist-packages (from nbconvert; extra == \"all\"->IPython[all]->-r requirements.txt (line 12)) (0.6.0)\n",
            "Requirement already satisfied: pandocfilters>=1.4.1 in /usr/local/lib/python3.6/dist-packages (from nbconvert; extra == \"all\"->IPython[all]->-r requirements.txt (line 12)) (1.4.3)\n",
            "Requirement already satisfied: urllib3!=1.25.0,!=1.25.1,<1.26,>=1.21.1 in /usr/local/lib/python3.6/dist-packages (from requests; extra == \"all\"->IPython[all]->-r requirements.txt (line 12)) (1.24.3)\n",
            "Requirement already satisfied: chardet<4,>=3.0.2 in /usr/local/lib/python3.6/dist-packages (from requests; extra == \"all\"->IPython[all]->-r requirements.txt (line 12)) (3.0.4)\n",
            "Requirement already satisfied: certifi>=2017.4.17 in /usr/local/lib/python3.6/dist-packages (from requests; extra == \"all\"->IPython[all]->-r requirements.txt (line 12)) (2020.6.20)\n",
            "Requirement already satisfied: idna<3,>=2.5 in /usr/local/lib/python3.6/dist-packages (from requests; extra == \"all\"->IPython[all]->-r requirements.txt (line 12)) (2.10)\n",
            "Requirement already satisfied: alabaster<0.8,>=0.7 in /usr/local/lib/python3.6/dist-packages (from Sphinx>=1.3; extra == \"all\"->IPython[all]->-r requirements.txt (line 12)) (0.7.12)\n",
            "Requirement already satisfied: babel!=2.0,>=1.3 in /usr/local/lib/python3.6/dist-packages (from Sphinx>=1.3; extra == \"all\"->IPython[all]->-r requirements.txt (line 12)) (2.8.0)\n",
            "Requirement already satisfied: snowballstemmer>=1.1 in /usr/local/lib/python3.6/dist-packages (from Sphinx>=1.3; extra == \"all\"->IPython[all]->-r requirements.txt (line 12)) (2.0.0)\n",
            "Requirement already satisfied: packaging in /usr/local/lib/python3.6/dist-packages (from Sphinx>=1.3; extra == \"all\"->IPython[all]->-r requirements.txt (line 12)) (20.4)\n",
            "Requirement already satisfied: imagesize in /usr/local/lib/python3.6/dist-packages (from Sphinx>=1.3; extra == \"all\"->IPython[all]->-r requirements.txt (line 12)) (1.2.0)\n",
            "Requirement already satisfied: sphinxcontrib-websupport in /usr/local/lib/python3.6/dist-packages (from Sphinx>=1.3; extra == \"all\"->IPython[all]->-r requirements.txt (line 12)) (1.2.4)\n",
            "Requirement already satisfied: docutils>=0.11 in /usr/local/lib/python3.6/dist-packages (from Sphinx>=1.3; extra == \"all\"->IPython[all]->-r requirements.txt (line 12)) (0.16)\n",
            "Requirement already satisfied: qtpy in /usr/local/lib/python3.6/dist-packages (from qtconsole; extra == \"all\"->IPython[all]->-r requirements.txt (line 12)) (1.9.0)\n",
            "Requirement already satisfied: importlib-metadata; python_version < \"3.8\" in /usr/local/lib/python3.6/dist-packages (from markdown>=2.6.8->tensorboard<1.14.0,>=1.13.0->tensorflow==1.13.1->-r requirements.txt (line 7)) (2.0.0)\n",
            "Requirement already satisfied: MarkupSafe>=0.23 in /usr/local/lib/python3.6/dist-packages (from jinja2->notebook; extra == \"all\"->IPython[all]->-r requirements.txt (line 12)) (1.1.1)\n",
            "Requirement already satisfied: webencodings in /usr/local/lib/python3.6/dist-packages (from bleach->nbconvert; extra == \"all\"->IPython[all]->-r requirements.txt (line 12)) (0.5.1)\n",
            "Requirement already satisfied: pytz>=2015.7 in /usr/local/lib/python3.6/dist-packages (from babel!=2.0,>=1.3->Sphinx>=1.3; extra == \"all\"->IPython[all]->-r requirements.txt (line 12)) (2018.9)\n",
            "Requirement already satisfied: sphinxcontrib-serializinghtml in /usr/local/lib/python3.6/dist-packages (from sphinxcontrib-websupport->Sphinx>=1.3; extra == \"all\"->IPython[all]->-r requirements.txt (line 12)) (1.1.4)\n",
            "Requirement already satisfied: zipp>=0.5 in /usr/local/lib/python3.6/dist-packages (from importlib-metadata; python_version < \"3.8\"->markdown>=2.6.8->tensorboard<1.14.0,>=1.13.0->tensorflow==1.13.1->-r requirements.txt (line 7)) (3.4.0)\n",
            "\u001b[31mERROR: textgenrnn 1.4.1 has requirement keras>=2.1.5, but you'll have keras 2.1.2 which is incompatible.\u001b[0m\n",
            "Installing collected packages: keras-applications, mock, tensorflow-estimator, tensorboard, tensorflow, keras, ipyparallel, nose\n",
            "  Found existing installation: tensorflow-estimator 2.3.0\n",
            "    Uninstalling tensorflow-estimator-2.3.0:\n",
            "      Successfully uninstalled tensorflow-estimator-2.3.0\n",
            "  Found existing installation: tensorboard 2.3.0\n",
            "    Uninstalling tensorboard-2.3.0:\n",
            "      Successfully uninstalled tensorboard-2.3.0\n",
            "  Found existing installation: tensorflow 2.3.0\n",
            "    Uninstalling tensorflow-2.3.0:\n",
            "      Successfully uninstalled tensorflow-2.3.0\n",
            "  Found existing installation: Keras 2.4.3\n",
            "    Uninstalling Keras-2.4.3:\n",
            "      Successfully uninstalled Keras-2.4.3\n",
            "Successfully installed ipyparallel-6.3.0 keras-2.1.2 keras-applications-1.0.8 mock-4.0.2 nose-1.3.7 tensorboard-1.13.1 tensorflow-1.13.1 tensorflow-estimator-1.13.0\n"
          ],
          "name": "stdout"
        }
      ]
    },
    {
      "cell_type": "code",
      "metadata": {
        "id": "I6fM8mBkoSqO",
        "colab": {
          "base_uri": "https://localhost:8080/"
        },
        "outputId": "e4f47bb0-3105-4bcd-bc3e-a7a9cd523e0e"
      },
      "source": [
        "%tensorflow_version 1.x\n",
        "!pip3 install Keras==2.0.8"
      ],
      "execution_count": null,
      "outputs": [
        {
          "output_type": "stream",
          "text": [
            "TensorFlow 1.x selected.\n",
            "Collecting Keras==2.0.8\n",
            "\u001b[?25l  Downloading https://files.pythonhosted.org/packages/67/3f/d117d6e48b19fb9589369f4bdbe883aa88943f8bb4a850559ea5c546fefb/Keras-2.0.8-py2.py3-none-any.whl (276kB)\n",
            "\u001b[K     |████████████████████████████████| 276kB 9.0MB/s \n",
            "\u001b[?25hRequirement already satisfied: pyyaml in /usr/local/lib/python3.6/dist-packages (from Keras==2.0.8) (3.13)\n",
            "Requirement already satisfied: six>=1.9.0 in /usr/local/lib/python3.6/dist-packages (from Keras==2.0.8) (1.15.0)\n",
            "Requirement already satisfied: scipy>=0.14 in /usr/local/lib/python3.6/dist-packages (from Keras==2.0.8) (1.4.1)\n",
            "Requirement already satisfied: numpy>=1.9.1 in /usr/local/lib/python3.6/dist-packages (from Keras==2.0.8) (1.18.5)\n",
            "\u001b[31mERROR: textgenrnn 1.4.1 has requirement keras>=2.1.5, but you'll have keras 2.0.8 which is incompatible.\u001b[0m\n",
            "Installing collected packages: Keras\n",
            "  Found existing installation: Keras 2.3.1\n",
            "    Uninstalling Keras-2.3.1:\n",
            "      Successfully uninstalled Keras-2.3.1\n",
            "Successfully installed Keras-2.1.2\n"
          ],
          "name": "stdout"
        }
      ]
    },
    {
      "cell_type": "code",
      "metadata": {
        "id": "VpFoN513cXE7",
        "colab": {
          "base_uri": "https://localhost:8080/",
          "height": 35
        },
        "outputId": "43569c79-7c27-4c92-f3d0-6f2f492a0b40"
      },
      "source": [
        "os.chdir(\"/content/drive/My Drive/Colab Notebooks/Pines_Mask_RCNN/Mask_RCNN/samples/pineappleResNet50_aug\")\n",
        "os.getcwd()"
      ],
      "execution_count": null,
      "outputs": [
        {
          "output_type": "execute_result",
          "data": {
            "application/vnd.google.colaboratory.intrinsic+json": {
              "type": "string"
            },
            "text/plain": [
              "'/content/drive/My Drive/Colab Notebooks/Pines_Mask_RCNN/Mask_RCNN/samples/pineappleResNet50_aug'"
            ]
          },
          "metadata": {
            "tags": []
          },
          "execution_count": 6
        }
      ]
    },
    {
      "cell_type": "markdown",
      "metadata": {
        "id": "8OiCwPwQ_xZ5"
      },
      "source": [
        "# Load data set"
      ]
    },
    {
      "cell_type": "code",
      "metadata": {
        "id": "vObi5qMD_w9l",
        "colab": {
          "base_uri": "https://localhost:8080/"
        },
        "outputId": "f36704f4-9bbb-4c1f-e461-580dad265099"
      },
      "source": [
        "# Root directory of the project\n",
        "ROOT_DIR = os.path.abspath(\"../../\")\n",
        "\n",
        "# Import Mask RCNN\n",
        "sys.path.append(ROOT_DIR)  # To find local version of the library\n",
        "from mrcnn import utils\n",
        "from mrcnn import visualize\n",
        "from mrcnn.visualize import display_images\n",
        "import mrcnn.model as modellib\n",
        "from mrcnn.model import log\n",
        "\n",
        "import pineapple\n",
        "\n",
        "%matplotlib inline \n",
        "\n",
        "# Directory to save logs and trained model\n",
        "MODEL_DIR = os.path.join(ROOT_DIR, \"logs\")"
      ],
      "execution_count": null,
      "outputs": [
        {
          "output_type": "stream",
          "text": [
            "Using TensorFlow backend.\n"
          ],
          "name": "stderr"
        }
      ]
    },
    {
      "cell_type": "code",
      "metadata": {
        "id": "wQlFuoiDASac"
      },
      "source": [
        "config = pineapple.PineappleConfig()\n",
        "PINEAPPLE_DIR = os.path.join(ROOT_DIR, \"datasets/pineapple160\")"
      ],
      "execution_count": null,
      "outputs": []
    },
    {
      "cell_type": "code",
      "metadata": {
        "id": "3h-mv1C7Zlgd",
        "colab": {
          "base_uri": "https://localhost:8080/"
        },
        "outputId": "89bb668e-38b9-4456-e244-05f0f10974f1"
      },
      "source": [
        "config.display()"
      ],
      "execution_count": null,
      "outputs": [
        {
          "output_type": "stream",
          "text": [
            "\n",
            "Configurations:\n",
            "BACKBONE                       resnet50\n",
            "BACKBONE_STRIDES               [4, 8, 16, 32, 64]\n",
            "BATCH_SIZE                     1\n",
            "BBOX_STD_DEV                   [0.1 0.1 0.2 0.2]\n",
            "COMPUTE_BACKBONE_SHAPE         None\n",
            "DETECTION_MAX_INSTANCES        100\n",
            "DETECTION_MIN_CONFIDENCE       0.9\n",
            "DETECTION_NMS_THRESHOLD        0.3\n",
            "FPN_CLASSIF_FC_LAYERS_SIZE     1024\n",
            "GPU_COUNT                      1\n",
            "GRADIENT_CLIP_NORM             5.0\n",
            "IMAGES_PER_GPU                 1\n",
            "IMAGE_CHANNEL_COUNT            3\n",
            "IMAGE_MAX_DIM                  1024\n",
            "IMAGE_META_SIZE                14\n",
            "IMAGE_MIN_DIM                  800\n",
            "IMAGE_MIN_SCALE                0\n",
            "IMAGE_RESIZE_MODE              square\n",
            "IMAGE_SHAPE                    [1024 1024    3]\n",
            "LEARNING_MOMENTUM              0.9\n",
            "LEARNING_RATE                  0.001\n",
            "LOSS_WEIGHTS                   {'rpn_class_loss': 1.0, 'rpn_bbox_loss': 1.0, 'mrcnn_class_loss': 1.0, 'mrcnn_bbox_loss': 1.0, 'mrcnn_mask_loss': 1.0}\n",
            "MASK_POOL_SIZE                 14\n",
            "MASK_SHAPE                     [28, 28]\n",
            "MAX_GT_INSTANCES               100\n",
            "MEAN_PIXEL                     [123.7 116.8 103.9]\n",
            "MINI_MASK_SHAPE                (56, 56)\n",
            "NAME                           pineapple\n",
            "NUM_CLASSES                    2\n",
            "POOL_SIZE                      7\n",
            "POST_NMS_ROIS_INFERENCE        1000\n",
            "POST_NMS_ROIS_TRAINING         2000\n",
            "PRE_NMS_LIMIT                  6000\n",
            "ROI_POSITIVE_RATIO             0.33\n",
            "RPN_ANCHOR_RATIOS              [0.5, 1, 2]\n",
            "RPN_ANCHOR_SCALES              (32, 64, 128, 256, 512)\n",
            "RPN_ANCHOR_STRIDE              1\n",
            "RPN_BBOX_STD_DEV               [0.1 0.1 0.2 0.2]\n",
            "RPN_NMS_THRESHOLD              0.7\n",
            "RPN_TRAIN_ANCHORS_PER_IMAGE    256\n",
            "STEPS_PER_EPOCH                100\n",
            "TOP_DOWN_PYRAMID_SIZE          256\n",
            "TRAIN_BN                       False\n",
            "TRAIN_ROIS_PER_IMAGE           200\n",
            "USE_MINI_MASK                  True\n",
            "USE_RPN_ROIS                   True\n",
            "VALIDATION_STEPS               50\n",
            "WEIGHT_DECAY                   0.0001\n",
            "\n",
            "\n"
          ],
          "name": "stdout"
        }
      ]
    },
    {
      "cell_type": "code",
      "metadata": {
        "id": "Osmwd92HAjK2",
        "colab": {
          "base_uri": "https://localhost:8080/"
        },
        "outputId": "4603d289-f169-4f71-f4cd-198c6e1ae499"
      },
      "source": [
        "# Training dataset\n",
        "dataset_train = pineapple.PineappleDataset()\n",
        "dataset_train.load_pineapple(PINEAPPLE_DIR, \"train\")\n",
        "dataset_train.prepare()\n",
        "\n",
        "print(\"Images: {}\\nClasses: {}\".format(len(dataset_train.image_ids), dataset_train.class_names))"
      ],
      "execution_count": null,
      "outputs": [
        {
          "output_type": "stream",
          "text": [
            "Images: 112\n",
            "Classes: ['BG', 'pineapple']\n"
          ],
          "name": "stdout"
        }
      ]
    },
    {
      "cell_type": "code",
      "metadata": {
        "id": "FpTgRp5aDRKH",
        "colab": {
          "base_uri": "https://localhost:8080/"
        },
        "outputId": "40982da6-6ddd-475d-fde0-1006ec950bd8"
      },
      "source": [
        "# Validation dataset\n",
        "dataset_val = pineapple.PineappleDataset()\n",
        "dataset_val.load_pineapple(PINEAPPLE_DIR, \"val\")\n",
        "dataset_val.prepare()\n",
        "\n",
        "print(\"Images: {}\\nClasses: {}\".format(len(dataset_val.image_ids), dataset_val.class_names))"
      ],
      "execution_count": null,
      "outputs": [
        {
          "output_type": "stream",
          "text": [
            "Images: 32\n",
            "Classes: ['BG', 'pineapple']\n"
          ],
          "name": "stdout"
        }
      ]
    },
    {
      "cell_type": "markdown",
      "metadata": {
        "id": "ISu_A7n8BX2V"
      },
      "source": [
        "# Load model and starting weights"
      ]
    },
    {
      "cell_type": "code",
      "metadata": {
        "id": "Xh4S-yXmR_WC"
      },
      "source": [
        "# Local path to trained weights file\n",
        "COCO_MODEL_PATH = os.path.join(ROOT_DIR, \"mask_rcnn_coco.h5\")\n",
        "\n",
        "# Download COCO trained weights from Releases if needed\n",
        "if not os.path.exists(COCO_MODEL_PATH):\n",
        "    utils.download_trained_weights(COCO_MODEL_PATH)"
      ],
      "execution_count": null,
      "outputs": []
    },
    {
      "cell_type": "code",
      "metadata": {
        "id": "xmaN02XnSPYd",
        "colab": {
          "base_uri": "https://localhost:8080/"
        },
        "outputId": "933391e6-7ed8-4a2b-ab01-fdf0293771fd"
      },
      "source": [
        "import tensorflow as tf\n",
        "\n",
        "# Create model in training mode using gpu\n",
        "with tf.device(\"/gpu:0\"):\n",
        "    model = modellib.MaskRCNN(mode=\"training\", config=config,model_dir=MODEL_DIR)\n",
        "\n",
        "# Which weights to start with?\n",
        "init_with = \"coco\"  # imagenet, coco\n",
        "\n",
        "if init_with == \"imagenet\":\n",
        "    model.load_weights(model.get_imagenet_weights(), by_name=True)\n",
        "elif init_with == \"coco\":\n",
        "    # Load weights trained on MS COCO, but skip layers that\n",
        "    # are different due to the different number of classes\n",
        "    # See README for instructions to download the COCO weights\n",
        "    model.load_weights(COCO_MODEL_PATH, by_name=True,exclude=[\"mrcnn_class_logits\", \"mrcnn_bbox_fc\", \"mrcnn_bbox\", \"mrcnn_mask\"])"
      ],
      "execution_count": null,
      "outputs": [
        {
          "output_type": "stream",
          "text": [
            "WARNING:tensorflow:From /usr/local/lib/python3.6/dist-packages/keras/backend/tensorflow_backend.py:442: The name tf.placeholder is deprecated. Please use tf.compat.v1.placeholder instead.\n",
            "\n",
            "WARNING:tensorflow:From /usr/local/lib/python3.6/dist-packages/keras/backend/tensorflow_backend.py:58: The name tf.get_default_graph is deprecated. Please use tf.compat.v1.get_default_graph instead.\n",
            "\n",
            "WARNING:tensorflow:From /usr/local/lib/python3.6/dist-packages/keras/backend/tensorflow_backend.py:3543: The name tf.random_uniform is deprecated. Please use tf.random.uniform instead.\n",
            "\n",
            "WARNING:tensorflow:From /usr/local/lib/python3.6/dist-packages/keras/backend/tensorflow_backend.py:3386: The name tf.nn.max_pool is deprecated. Please use tf.nn.max_pool2d instead.\n",
            "\n",
            "WARNING:tensorflow:From /usr/local/lib/python3.6/dist-packages/keras/backend/tensorflow_backend.py:1768: The name tf.image.resize_nearest_neighbor is deprecated. Please use tf.compat.v1.image.resize_nearest_neighbor instead.\n",
            "\n",
            "WARNING:tensorflow:From /usr/local/lib/python3.6/dist-packages/keras/backend/tensorflow_backend.py:1154: calling reduce_max_v1 (from tensorflow.python.ops.math_ops) with keep_dims is deprecated and will be removed in a future version.\n",
            "Instructions for updating:\n",
            "keep_dims is deprecated, use keepdims instead\n",
            "WARNING:tensorflow:From /usr/local/lib/python3.6/dist-packages/keras/backend/tensorflow_backend.py:1188: calling reduce_sum_v1 (from tensorflow.python.ops.math_ops) with keep_dims is deprecated and will be removed in a future version.\n",
            "Instructions for updating:\n",
            "keep_dims is deprecated, use keepdims instead\n",
            "WARNING:tensorflow:From /tensorflow-1.15.2/python3.6/tensorflow_core/python/ops/array_ops.py:1475: where (from tensorflow.python.ops.array_ops) is deprecated and will be removed in a future version.\n",
            "Instructions for updating:\n",
            "Use tf.where in 2.0, which has the same broadcast rule as np.where\n",
            "WARNING:tensorflow:From /content/drive/My Drive/Colab Notebooks/Pines_Mask_RCNN/Mask_RCNN/mrcnn/model.py:553: The name tf.random_shuffle is deprecated. Please use tf.random.shuffle instead.\n",
            "\n",
            "WARNING:tensorflow:From /content/drive/My Drive/Colab Notebooks/Pines_Mask_RCNN/Mask_RCNN/mrcnn/utils.py:202: The name tf.log is deprecated. Please use tf.math.log instead.\n",
            "\n",
            "WARNING:tensorflow:From /content/drive/My Drive/Colab Notebooks/Pines_Mask_RCNN/Mask_RCNN/mrcnn/model.py:600: calling crop_and_resize_v1 (from tensorflow.python.ops.image_ops_impl) with box_ind is deprecated and will be removed in a future version.\n",
            "Instructions for updating:\n",
            "box_ind is deprecated, use box_indices instead\n",
            "WARNING:tensorflow:From /usr/local/lib/python3.6/dist-packages/keras/backend/tensorflow_backend.py:153: The name tf.get_default_session is deprecated. Please use tf.compat.v1.get_default_session instead.\n",
            "\n",
            "WARNING:tensorflow:From /usr/local/lib/python3.6/dist-packages/keras/backend/tensorflow_backend.py:158: The name tf.ConfigProto is deprecated. Please use tf.compat.v1.ConfigProto instead.\n",
            "\n",
            "WARNING:tensorflow:From /usr/local/lib/python3.6/dist-packages/keras/backend/tensorflow_backend.py:163: The name tf.Session is deprecated. Please use tf.compat.v1.Session instead.\n",
            "\n",
            "WARNING:tensorflow:From /usr/local/lib/python3.6/dist-packages/keras/backend/tensorflow_backend.py:333: The name tf.global_variables is deprecated. Please use tf.compat.v1.global_variables instead.\n",
            "\n",
            "WARNING:tensorflow:From /usr/local/lib/python3.6/dist-packages/keras/backend/tensorflow_backend.py:341: The name tf.variables_initializer is deprecated. Please use tf.compat.v1.variables_initializer instead.\n",
            "\n"
          ],
          "name": "stdout"
        }
      ]
    },
    {
      "cell_type": "code",
      "metadata": {
        "id": "lBVUvYYDyXl4"
      },
      "source": [
        "import imgaug\n",
        "import imgaug.augmenters as iaa\n",
        "\n",
        "# set seed\n",
        "imgaug.seed(1)\n",
        "\n",
        "# define augmenter\n",
        "aug = iaa.Sequential([\n",
        "                      iaa.Fliplr(0.5),\n",
        "                      iaa.SomeOf((0,2), [\n",
        "                                         iaa.GaussianBlur(sigma=2),\n",
        "                                         iaa.AdditiveGaussianNoise(loc=0, scale=0.1*255),\n",
        "                                         iaa.Add((-50,50))\n",
        "                      ])\n",
        "])\n",
        "\n",
        "# i.e. each image has a 50% chance of being horizontally flipped\n",
        "# thereafter, between 0 and 2 of the listed operations will be performed\n",
        "# Add((-50,50)) adds a random number between -50 and 50 to all pixels of a given image"
      ],
      "execution_count": null,
      "outputs": []
    },
    {
      "cell_type": "code",
      "metadata": {
        "id": "oUCK_pnsCMsA",
        "colab": {
          "base_uri": "https://localhost:8080/"
        },
        "outputId": "d8722d5b-bf55-4b2d-8674-754e7934021f"
      },
      "source": [
        "# Train all layers\n",
        "model.train(dataset_train, dataset_val, \n",
        "            learning_rate=config.LEARNING_RATE, \n",
        "            epochs=30, \n",
        "            layers='all', \n",
        "            augmentation = aug)\n"
      ],
      "execution_count": null,
      "outputs": [
        {
          "output_type": "stream",
          "text": [
            "\n",
            "Starting at epoch 0. LR=0.001\n",
            "\n",
            "Checkpoint Path: /content/drive/My Drive/Colab Notebooks/Pines_Mask_RCNN/Mask_RCNN/logs/pineapple20201116T1748/mask_rcnn_pineapple_{epoch:04d}.h5\n",
            "Selecting layers to train\n",
            "conv1                  (Conv2D)\n",
            "bn_conv1               (BatchNorm)\n",
            "res2a_branch2a         (Conv2D)\n",
            "bn2a_branch2a          (BatchNorm)\n",
            "res2a_branch2b         (Conv2D)\n",
            "bn2a_branch2b          (BatchNorm)\n",
            "res2a_branch2c         (Conv2D)\n",
            "res2a_branch1          (Conv2D)\n",
            "bn2a_branch2c          (BatchNorm)\n",
            "bn2a_branch1           (BatchNorm)\n",
            "res2b_branch2a         (Conv2D)\n",
            "bn2b_branch2a          (BatchNorm)\n",
            "res2b_branch2b         (Conv2D)\n",
            "bn2b_branch2b          (BatchNorm)\n",
            "res2b_branch2c         (Conv2D)\n",
            "bn2b_branch2c          (BatchNorm)\n",
            "res2c_branch2a         (Conv2D)\n",
            "bn2c_branch2a          (BatchNorm)\n",
            "res2c_branch2b         (Conv2D)\n",
            "bn2c_branch2b          (BatchNorm)\n",
            "res2c_branch2c         (Conv2D)\n",
            "bn2c_branch2c          (BatchNorm)\n",
            "res3a_branch2a         (Conv2D)\n",
            "bn3a_branch2a          (BatchNorm)\n",
            "res3a_branch2b         (Conv2D)\n",
            "bn3a_branch2b          (BatchNorm)\n",
            "res3a_branch2c         (Conv2D)\n",
            "res3a_branch1          (Conv2D)\n",
            "bn3a_branch2c          (BatchNorm)\n",
            "bn3a_branch1           (BatchNorm)\n",
            "res3b_branch2a         (Conv2D)\n",
            "bn3b_branch2a          (BatchNorm)\n",
            "res3b_branch2b         (Conv2D)\n",
            "bn3b_branch2b          (BatchNorm)\n",
            "res3b_branch2c         (Conv2D)\n",
            "bn3b_branch2c          (BatchNorm)\n",
            "res3c_branch2a         (Conv2D)\n",
            "bn3c_branch2a          (BatchNorm)\n",
            "res3c_branch2b         (Conv2D)\n",
            "bn3c_branch2b          (BatchNorm)\n",
            "res3c_branch2c         (Conv2D)\n",
            "bn3c_branch2c          (BatchNorm)\n",
            "res3d_branch2a         (Conv2D)\n",
            "bn3d_branch2a          (BatchNorm)\n",
            "res3d_branch2b         (Conv2D)\n",
            "bn3d_branch2b          (BatchNorm)\n",
            "res3d_branch2c         (Conv2D)\n",
            "bn3d_branch2c          (BatchNorm)\n",
            "res4a_branch2a         (Conv2D)\n",
            "bn4a_branch2a          (BatchNorm)\n",
            "res4a_branch2b         (Conv2D)\n",
            "bn4a_branch2b          (BatchNorm)\n",
            "res4a_branch2c         (Conv2D)\n",
            "res4a_branch1          (Conv2D)\n",
            "bn4a_branch2c          (BatchNorm)\n",
            "bn4a_branch1           (BatchNorm)\n",
            "res4b_branch2a         (Conv2D)\n",
            "bn4b_branch2a          (BatchNorm)\n",
            "res4b_branch2b         (Conv2D)\n",
            "bn4b_branch2b          (BatchNorm)\n",
            "res4b_branch2c         (Conv2D)\n",
            "bn4b_branch2c          (BatchNorm)\n",
            "res4c_branch2a         (Conv2D)\n",
            "bn4c_branch2a          (BatchNorm)\n",
            "res4c_branch2b         (Conv2D)\n",
            "bn4c_branch2b          (BatchNorm)\n",
            "res4c_branch2c         (Conv2D)\n",
            "bn4c_branch2c          (BatchNorm)\n",
            "res4d_branch2a         (Conv2D)\n",
            "bn4d_branch2a          (BatchNorm)\n",
            "res4d_branch2b         (Conv2D)\n",
            "bn4d_branch2b          (BatchNorm)\n",
            "res4d_branch2c         (Conv2D)\n",
            "bn4d_branch2c          (BatchNorm)\n",
            "res4e_branch2a         (Conv2D)\n",
            "bn4e_branch2a          (BatchNorm)\n",
            "res4e_branch2b         (Conv2D)\n",
            "bn4e_branch2b          (BatchNorm)\n",
            "res4e_branch2c         (Conv2D)\n",
            "bn4e_branch2c          (BatchNorm)\n",
            "res4f_branch2a         (Conv2D)\n",
            "bn4f_branch2a          (BatchNorm)\n",
            "res4f_branch2b         (Conv2D)\n",
            "bn4f_branch2b          (BatchNorm)\n",
            "res4f_branch2c         (Conv2D)\n",
            "bn4f_branch2c          (BatchNorm)\n",
            "res5a_branch2a         (Conv2D)\n",
            "bn5a_branch2a          (BatchNorm)\n",
            "res5a_branch2b         (Conv2D)\n",
            "bn5a_branch2b          (BatchNorm)\n",
            "res5a_branch2c         (Conv2D)\n",
            "res5a_branch1          (Conv2D)\n",
            "bn5a_branch2c          (BatchNorm)\n",
            "bn5a_branch1           (BatchNorm)\n",
            "res5b_branch2a         (Conv2D)\n",
            "bn5b_branch2a          (BatchNorm)\n",
            "res5b_branch2b         (Conv2D)\n",
            "bn5b_branch2b          (BatchNorm)\n",
            "res5b_branch2c         (Conv2D)\n",
            "bn5b_branch2c          (BatchNorm)\n",
            "res5c_branch2a         (Conv2D)\n",
            "bn5c_branch2a          (BatchNorm)\n",
            "res5c_branch2b         (Conv2D)\n",
            "bn5c_branch2b          (BatchNorm)\n",
            "res5c_branch2c         (Conv2D)\n",
            "bn5c_branch2c          (BatchNorm)\n",
            "fpn_c5p5               (Conv2D)\n",
            "fpn_c4p4               (Conv2D)\n",
            "fpn_c3p3               (Conv2D)\n",
            "fpn_c2p2               (Conv2D)\n",
            "fpn_p5                 (Conv2D)\n",
            "fpn_p2                 (Conv2D)\n",
            "fpn_p3                 (Conv2D)\n",
            "fpn_p4                 (Conv2D)\n",
            "In model:  rpn_model\n",
            "    rpn_conv_shared        (Conv2D)\n",
            "    rpn_class_raw          (Conv2D)\n",
            "    rpn_bbox_pred          (Conv2D)\n",
            "mrcnn_mask_conv1       (TimeDistributed)\n",
            "mrcnn_mask_bn1         (TimeDistributed)\n",
            "mrcnn_mask_conv2       (TimeDistributed)\n",
            "mrcnn_mask_bn2         (TimeDistributed)\n",
            "mrcnn_class_conv1      (TimeDistributed)\n",
            "mrcnn_class_bn1        (TimeDistributed)\n",
            "mrcnn_mask_conv3       (TimeDistributed)\n",
            "mrcnn_mask_bn3         (TimeDistributed)\n",
            "mrcnn_class_conv2      (TimeDistributed)\n",
            "mrcnn_class_bn2        (TimeDistributed)\n",
            "mrcnn_mask_conv4       (TimeDistributed)\n",
            "mrcnn_mask_bn4         (TimeDistributed)\n",
            "mrcnn_bbox_fc          (TimeDistributed)\n",
            "mrcnn_mask_deconv      (TimeDistributed)\n",
            "mrcnn_class_logits     (TimeDistributed)\n",
            "mrcnn_mask             (TimeDistributed)\n",
            "WARNING:tensorflow:From /usr/local/lib/python3.6/dist-packages/keras/optimizers.py:711: The name tf.train.Optimizer is deprecated. Please use tf.compat.v1.train.Optimizer instead.\n",
            "\n"
          ],
          "name": "stdout"
        },
        {
          "output_type": "stream",
          "text": [
            "/tensorflow-1.15.2/python3.6/tensorflow_core/python/framework/indexed_slices.py:424: UserWarning: Converting sparse IndexedSlices to a dense Tensor of unknown shape. This may consume a large amount of memory.\n",
            "  \"Converting sparse IndexedSlices to a dense Tensor of unknown shape. \"\n",
            "/tensorflow-1.15.2/python3.6/tensorflow_core/python/framework/indexed_slices.py:424: UserWarning: Converting sparse IndexedSlices to a dense Tensor of unknown shape. This may consume a large amount of memory.\n",
            "  \"Converting sparse IndexedSlices to a dense Tensor of unknown shape. \"\n",
            "/tensorflow-1.15.2/python3.6/tensorflow_core/python/framework/indexed_slices.py:424: UserWarning: Converting sparse IndexedSlices to a dense Tensor of unknown shape. This may consume a large amount of memory.\n",
            "  \"Converting sparse IndexedSlices to a dense Tensor of unknown shape. \"\n"
          ],
          "name": "stderr"
        },
        {
          "output_type": "stream",
          "text": [
            "WARNING:tensorflow:From /usr/local/lib/python3.6/dist-packages/keras/backend/tensorflow_backend.py:899: The name tf.assign_add is deprecated. Please use tf.compat.v1.assign_add instead.\n",
            "\n",
            "WARNING:tensorflow:From /usr/local/lib/python3.6/dist-packages/keras/backend/tensorflow_backend.py:625: calling Constant.__init__ (from tensorflow.python.ops.init_ops) with dtype is deprecated and will be removed in a future version.\n",
            "Instructions for updating:\n",
            "Call initializer instance with the dtype argument instead of passing it to the constructor\n",
            "WARNING:tensorflow:From /usr/local/lib/python3.6/dist-packages/keras/backend/tensorflow_backend.py:886: The name tf.assign is deprecated. Please use tf.compat.v1.assign instead.\n",
            "\n",
            "WARNING:tensorflow:From /usr/local/lib/python3.6/dist-packages/keras/callbacks.py:705: The name tf.summary.merge_all is deprecated. Please use tf.compat.v1.summary.merge_all instead.\n",
            "\n",
            "WARNING:tensorflow:From /usr/local/lib/python3.6/dist-packages/keras/callbacks.py:708: The name tf.summary.FileWriter is deprecated. Please use tf.compat.v1.summary.FileWriter instead.\n",
            "\n"
          ],
          "name": "stdout"
        },
        {
          "output_type": "stream",
          "text": [
            "/usr/local/lib/python3.6/dist-packages/keras/engine/training.py:1987: UserWarning: Using a generator with `use_multiprocessing=True` and multiple workers may duplicate your data. Please consider using the`keras.utils.Sequence class.\n",
            "  UserWarning('Using a generator with `use_multiprocessing=True`'\n"
          ],
          "name": "stderr"
        },
        {
          "output_type": "stream",
          "text": [
            "Epoch 1/30\n",
            " 99/100 [============================>.] - ETA: 0s - loss: 0.9070 - rpn_class_loss: 0.0473 - rpn_bbox_loss: 0.1687 - mrcnn_class_loss: 0.2242 - mrcnn_bbox_loss: 0.2719 - mrcnn_mask_loss: 0.1949"
          ],
          "name": "stdout"
        },
        {
          "output_type": "stream",
          "text": [
            "/usr/local/lib/python3.6/dist-packages/keras/engine/training.py:2142: UserWarning: Using a generator with `use_multiprocessing=True` and multiple workers may duplicate your data. Please consider using the`keras.utils.Sequence class.\n",
            "  UserWarning('Using a generator with `use_multiprocessing=True`'\n"
          ],
          "name": "stderr"
        },
        {
          "output_type": "stream",
          "text": [
            "WARNING:tensorflow:From /usr/local/lib/python3.6/dist-packages/keras/callbacks.py:791: The name tf.Summary is deprecated. Please use tf.compat.v1.Summary instead.\n",
            "\n",
            "100/100 [==============================] - 204s - loss: 0.9026 - rpn_class_loss: 0.0469 - rpn_bbox_loss: 0.1684 - mrcnn_class_loss: 0.2233 - mrcnn_bbox_loss: 0.2698 - mrcnn_mask_loss: 0.1941 - val_loss: 0.3015 - val_rpn_class_loss: 0.0049 - val_rpn_bbox_loss: 0.0478 - val_mrcnn_class_loss: 0.0902 - val_mrcnn_bbox_loss: 0.0603 - val_mrcnn_mask_loss: 0.0983\n",
            "Epoch 2/30\n",
            "100/100 [==============================] - 97s - loss: 0.2990 - rpn_class_loss: 0.0065 - rpn_bbox_loss: 0.0456 - mrcnn_class_loss: 0.0961 - mrcnn_bbox_loss: 0.0546 - mrcnn_mask_loss: 0.0962 - val_loss: 0.2521 - val_rpn_class_loss: 0.0037 - val_rpn_bbox_loss: 0.0455 - val_mrcnn_class_loss: 0.0796 - val_mrcnn_bbox_loss: 0.0409 - val_mrcnn_mask_loss: 0.0824\n",
            "Epoch 3/30\n",
            "100/100 [==============================] - 97s - loss: 0.2632 - rpn_class_loss: 0.0053 - rpn_bbox_loss: 0.0366 - mrcnn_class_loss: 0.0935 - mrcnn_bbox_loss: 0.0404 - mrcnn_mask_loss: 0.0874 - val_loss: 0.2294 - val_rpn_class_loss: 0.0034 - val_rpn_bbox_loss: 0.0306 - val_mrcnn_class_loss: 0.0863 - val_mrcnn_bbox_loss: 0.0310 - val_mrcnn_mask_loss: 0.0781\n",
            "Epoch 4/30\n",
            "100/100 [==============================] - 97s - loss: 0.2466 - rpn_class_loss: 0.0040 - rpn_bbox_loss: 0.0351 - mrcnn_class_loss: 0.0861 - mrcnn_bbox_loss: 0.0371 - mrcnn_mask_loss: 0.0843 - val_loss: 0.1963 - val_rpn_class_loss: 0.0020 - val_rpn_bbox_loss: 0.0246 - val_mrcnn_class_loss: 0.0687 - val_mrcnn_bbox_loss: 0.0236 - val_mrcnn_mask_loss: 0.0774\n",
            "Epoch 5/30\n",
            "100/100 [==============================] - 93s - loss: 0.2270 - rpn_class_loss: 0.0033 - rpn_bbox_loss: 0.0313 - mrcnn_class_loss: 0.0773 - mrcnn_bbox_loss: 0.0288 - mrcnn_mask_loss: 0.0862 - val_loss: 0.2138 - val_rpn_class_loss: 0.0017 - val_rpn_bbox_loss: 0.0347 - val_mrcnn_class_loss: 0.0725 - val_mrcnn_bbox_loss: 0.0280 - val_mrcnn_mask_loss: 0.0768\n",
            "Epoch 6/30\n",
            "100/100 [==============================] - 95s - loss: 0.2053 - rpn_class_loss: 0.0019 - rpn_bbox_loss: 0.0264 - mrcnn_class_loss: 0.0662 - mrcnn_bbox_loss: 0.0279 - mrcnn_mask_loss: 0.0830 - val_loss: 0.1643 - val_rpn_class_loss: 9.8249e-04 - val_rpn_bbox_loss: 0.0219 - val_mrcnn_class_loss: 0.0388 - val_mrcnn_bbox_loss: 0.0238 - val_mrcnn_mask_loss: 0.0788\n",
            "Epoch 7/30\n",
            "100/100 [==============================] - 94s - loss: 0.1989 - rpn_class_loss: 0.0021 - rpn_bbox_loss: 0.0277 - mrcnn_class_loss: 0.0568 - mrcnn_bbox_loss: 0.0285 - mrcnn_mask_loss: 0.0838 - val_loss: 0.1734 - val_rpn_class_loss: 0.0013 - val_rpn_bbox_loss: 0.0213 - val_mrcnn_class_loss: 0.0545 - val_mrcnn_bbox_loss: 0.0244 - val_mrcnn_mask_loss: 0.0718\n",
            "Epoch 8/30\n",
            "100/100 [==============================] - 96s - loss: 0.1900 - rpn_class_loss: 0.0017 - rpn_bbox_loss: 0.0212 - mrcnn_class_loss: 0.0623 - mrcnn_bbox_loss: 0.0244 - mrcnn_mask_loss: 0.0805 - val_loss: 0.1823 - val_rpn_class_loss: 0.0010 - val_rpn_bbox_loss: 0.0208 - val_mrcnn_class_loss: 0.0650 - val_mrcnn_bbox_loss: 0.0193 - val_mrcnn_mask_loss: 0.0762\n",
            "Epoch 9/30\n",
            "100/100 [==============================] - 95s - loss: 0.1816 - rpn_class_loss: 0.0013 - rpn_bbox_loss: 0.0225 - mrcnn_class_loss: 0.0553 - mrcnn_bbox_loss: 0.0218 - mrcnn_mask_loss: 0.0807 - val_loss: 0.1527 - val_rpn_class_loss: 6.5359e-04 - val_rpn_bbox_loss: 0.0197 - val_mrcnn_class_loss: 0.0388 - val_mrcnn_bbox_loss: 0.0192 - val_mrcnn_mask_loss: 0.0743\n",
            "Epoch 10/30\n",
            "100/100 [==============================] - 96s - loss: 0.1598 - rpn_class_loss: 0.0012 - rpn_bbox_loss: 0.0185 - mrcnn_class_loss: 0.0414 - mrcnn_bbox_loss: 0.0194 - mrcnn_mask_loss: 0.0793 - val_loss: 0.1467 - val_rpn_class_loss: 5.7083e-04 - val_rpn_bbox_loss: 0.0198 - val_mrcnn_class_loss: 0.0302 - val_mrcnn_bbox_loss: 0.0192 - val_mrcnn_mask_loss: 0.0770\n",
            "Epoch 11/30\n",
            "100/100 [==============================] - 93s - loss: 0.1593 - rpn_class_loss: 0.0011 - rpn_bbox_loss: 0.0196 - mrcnn_class_loss: 0.0344 - mrcnn_bbox_loss: 0.0206 - mrcnn_mask_loss: 0.0836 - val_loss: 0.1707 - val_rpn_class_loss: 8.2547e-04 - val_rpn_bbox_loss: 0.0175 - val_mrcnn_class_loss: 0.0505 - val_mrcnn_bbox_loss: 0.0201 - val_mrcnn_mask_loss: 0.0817\n",
            "Epoch 12/30\n",
            "100/100 [==============================] - 94s - loss: 0.1496 - rpn_class_loss: 7.3842e-04 - rpn_bbox_loss: 0.0192 - mrcnn_class_loss: 0.0316 - mrcnn_bbox_loss: 0.0193 - mrcnn_mask_loss: 0.0788 - val_loss: 0.1439 - val_rpn_class_loss: 7.8785e-04 - val_rpn_bbox_loss: 0.0195 - val_mrcnn_class_loss: 0.0317 - val_mrcnn_bbox_loss: 0.0147 - val_mrcnn_mask_loss: 0.0772\n",
            "Epoch 13/30\n",
            "100/100 [==============================] - 92s - loss: 0.1580 - rpn_class_loss: 8.7481e-04 - rpn_bbox_loss: 0.0195 - mrcnn_class_loss: 0.0393 - mrcnn_bbox_loss: 0.0179 - mrcnn_mask_loss: 0.0804 - val_loss: 0.1462 - val_rpn_class_loss: 8.0271e-04 - val_rpn_bbox_loss: 0.0196 - val_mrcnn_class_loss: 0.0341 - val_mrcnn_bbox_loss: 0.0203 - val_mrcnn_mask_loss: 0.0714\n",
            "Epoch 14/30\n",
            "100/100 [==============================] - 93s - loss: 0.1409 - rpn_class_loss: 9.8773e-04 - rpn_bbox_loss: 0.0164 - mrcnn_class_loss: 0.0318 - mrcnn_bbox_loss: 0.0164 - mrcnn_mask_loss: 0.0753 - val_loss: 0.1660 - val_rpn_class_loss: 6.6768e-04 - val_rpn_bbox_loss: 0.0214 - val_mrcnn_class_loss: 0.0466 - val_mrcnn_bbox_loss: 0.0228 - val_mrcnn_mask_loss: 0.0745\n",
            "Epoch 15/30\n",
            "100/100 [==============================] - 93s - loss: 0.1408 - rpn_class_loss: 5.7902e-04 - rpn_bbox_loss: 0.0164 - mrcnn_class_loss: 0.0296 - mrcnn_bbox_loss: 0.0159 - mrcnn_mask_loss: 0.0784 - val_loss: 0.1357 - val_rpn_class_loss: 0.0010 - val_rpn_bbox_loss: 0.0174 - val_mrcnn_class_loss: 0.0305 - val_mrcnn_bbox_loss: 0.0140 - val_mrcnn_mask_loss: 0.0728\n",
            "Epoch 16/30\n",
            "100/100 [==============================] - 94s - loss: 0.1323 - rpn_class_loss: 8.9543e-04 - rpn_bbox_loss: 0.0156 - mrcnn_class_loss: 0.0195 - mrcnn_bbox_loss: 0.0158 - mrcnn_mask_loss: 0.0804 - val_loss: 0.1283 - val_rpn_class_loss: 5.1793e-04 - val_rpn_bbox_loss: 0.0213 - val_mrcnn_class_loss: 0.0156 - val_mrcnn_bbox_loss: 0.0135 - val_mrcnn_mask_loss: 0.0774\n",
            "Epoch 17/30\n",
            "100/100 [==============================] - 96s - loss: 0.1324 - rpn_class_loss: 6.3556e-04 - rpn_bbox_loss: 0.0156 - mrcnn_class_loss: 0.0228 - mrcnn_bbox_loss: 0.0151 - mrcnn_mask_loss: 0.0783 - val_loss: 0.1396 - val_rpn_class_loss: 6.1582e-04 - val_rpn_bbox_loss: 0.0187 - val_mrcnn_class_loss: 0.0272 - val_mrcnn_bbox_loss: 0.0185 - val_mrcnn_mask_loss: 0.0746\n",
            "Epoch 18/30\n",
            "100/100 [==============================] - 92s - loss: 0.1290 - rpn_class_loss: 5.1267e-04 - rpn_bbox_loss: 0.0144 - mrcnn_class_loss: 0.0227 - mrcnn_bbox_loss: 0.0141 - mrcnn_mask_loss: 0.0772 - val_loss: 0.1449 - val_rpn_class_loss: 8.6806e-04 - val_rpn_bbox_loss: 0.0258 - val_mrcnn_class_loss: 0.0212 - val_mrcnn_bbox_loss: 0.0212 - val_mrcnn_mask_loss: 0.0759\n",
            "Epoch 19/30\n",
            "100/100 [==============================] - 94s - loss: 0.1188 - rpn_class_loss: 3.9063e-04 - rpn_bbox_loss: 0.0134 - mrcnn_class_loss: 0.0165 - mrcnn_bbox_loss: 0.0125 - mrcnn_mask_loss: 0.0760 - val_loss: 0.1296 - val_rpn_class_loss: 5.6516e-04 - val_rpn_bbox_loss: 0.0171 - val_mrcnn_class_loss: 0.0192 - val_mrcnn_bbox_loss: 0.0127 - val_mrcnn_mask_loss: 0.0801\n",
            "Epoch 20/30\n",
            "100/100 [==============================] - 97s - loss: 0.1228 - rpn_class_loss: 4.8896e-04 - rpn_bbox_loss: 0.0128 - mrcnn_class_loss: 0.0177 - mrcnn_bbox_loss: 0.0126 - mrcnn_mask_loss: 0.0792 - val_loss: 0.1236 - val_rpn_class_loss: 8.2207e-04 - val_rpn_bbox_loss: 0.0150 - val_mrcnn_class_loss: 0.0197 - val_mrcnn_bbox_loss: 0.0113 - val_mrcnn_mask_loss: 0.0767\n",
            "Epoch 21/30\n",
            "100/100 [==============================] - 92s - loss: 0.1237 - rpn_class_loss: 3.6792e-04 - rpn_bbox_loss: 0.0133 - mrcnn_class_loss: 0.0180 - mrcnn_bbox_loss: 0.0135 - mrcnn_mask_loss: 0.0785 - val_loss: 0.1306 - val_rpn_class_loss: 3.6879e-04 - val_rpn_bbox_loss: 0.0196 - val_mrcnn_class_loss: 0.0220 - val_mrcnn_bbox_loss: 0.0157 - val_mrcnn_mask_loss: 0.0728\n",
            "Epoch 22/30\n",
            "100/100 [==============================] - 95s - loss: 0.1098 - rpn_class_loss: 3.4128e-04 - rpn_bbox_loss: 0.0116 - mrcnn_class_loss: 0.0127 - mrcnn_bbox_loss: 0.0107 - mrcnn_mask_loss: 0.0745 - val_loss: 0.1175 - val_rpn_class_loss: 8.3365e-04 - val_rpn_bbox_loss: 0.0177 - val_mrcnn_class_loss: 0.0129 - val_mrcnn_bbox_loss: 0.0117 - val_mrcnn_mask_loss: 0.0743\n",
            "Epoch 23/30\n",
            "100/100 [==============================] - 95s - loss: 0.1070 - rpn_class_loss: 3.1355e-04 - rpn_bbox_loss: 0.0112 - mrcnn_class_loss: 0.0127 - mrcnn_bbox_loss: 0.0098 - mrcnn_mask_loss: 0.0729 - val_loss: 0.1302 - val_rpn_class_loss: 7.7534e-04 - val_rpn_bbox_loss: 0.0176 - val_mrcnn_class_loss: 0.0221 - val_mrcnn_bbox_loss: 0.0125 - val_mrcnn_mask_loss: 0.0772\n",
            "Epoch 24/30\n",
            "100/100 [==============================] - 95s - loss: 0.1137 - rpn_class_loss: 2.5235e-04 - rpn_bbox_loss: 0.0112 - mrcnn_class_loss: 0.0149 - mrcnn_bbox_loss: 0.0109 - mrcnn_mask_loss: 0.0764 - val_loss: 0.1180 - val_rpn_class_loss: 7.5470e-04 - val_rpn_bbox_loss: 0.0152 - val_mrcnn_class_loss: 0.0134 - val_mrcnn_bbox_loss: 0.0121 - val_mrcnn_mask_loss: 0.0765\n",
            "Epoch 25/30\n",
            "100/100 [==============================] - 97s - loss: 0.1137 - rpn_class_loss: 2.8689e-04 - rpn_bbox_loss: 0.0115 - mrcnn_class_loss: 0.0156 - mrcnn_bbox_loss: 0.0110 - mrcnn_mask_loss: 0.0753 - val_loss: 0.1343 - val_rpn_class_loss: 5.7863e-04 - val_rpn_bbox_loss: 0.0174 - val_mrcnn_class_loss: 0.0251 - val_mrcnn_bbox_loss: 0.0153 - val_mrcnn_mask_loss: 0.0758\n",
            "Epoch 26/30\n",
            "100/100 [==============================] - 93s - loss: 0.1087 - rpn_class_loss: 2.9222e-04 - rpn_bbox_loss: 0.0104 - mrcnn_class_loss: 0.0148 - mrcnn_bbox_loss: 0.0096 - mrcnn_mask_loss: 0.0736 - val_loss: 0.1175 - val_rpn_class_loss: 3.9629e-04 - val_rpn_bbox_loss: 0.0156 - val_mrcnn_class_loss: 0.0133 - val_mrcnn_bbox_loss: 0.0127 - val_mrcnn_mask_loss: 0.0756\n",
            "Epoch 27/30\n",
            "100/100 [==============================] - 96s - loss: 0.1112 - rpn_class_loss: 2.8402e-04 - rpn_bbox_loss: 0.0116 - mrcnn_class_loss: 0.0144 - mrcnn_bbox_loss: 0.0105 - mrcnn_mask_loss: 0.0745 - val_loss: 0.1205 - val_rpn_class_loss: 4.9226e-04 - val_rpn_bbox_loss: 0.0196 - val_mrcnn_class_loss: 0.0120 - val_mrcnn_bbox_loss: 0.0140 - val_mrcnn_mask_loss: 0.0745\n",
            "Epoch 28/30\n",
            "100/100 [==============================] - 95s - loss: 0.1048 - rpn_class_loss: 2.7890e-04 - rpn_bbox_loss: 0.0103 - mrcnn_class_loss: 0.0134 - mrcnn_bbox_loss: 0.0088 - mrcnn_mask_loss: 0.0720 - val_loss: 0.1138 - val_rpn_class_loss: 5.8368e-04 - val_rpn_bbox_loss: 0.0158 - val_mrcnn_class_loss: 0.0122 - val_mrcnn_bbox_loss: 0.0109 - val_mrcnn_mask_loss: 0.0743\n",
            "Epoch 29/30\n",
            "100/100 [==============================] - 94s - loss: 0.1141 - rpn_class_loss: 2.1999e-04 - rpn_bbox_loss: 0.0110 - mrcnn_class_loss: 0.0175 - mrcnn_bbox_loss: 0.0107 - mrcnn_mask_loss: 0.0748 - val_loss: 0.1065 - val_rpn_class_loss: 6.3355e-04 - val_rpn_bbox_loss: 0.0153 - val_mrcnn_class_loss: 0.0067 - val_mrcnn_bbox_loss: 0.0096 - val_mrcnn_mask_loss: 0.0742\n",
            "Epoch 30/30\n",
            "100/100 [==============================] - 93s - loss: 0.1022 - rpn_class_loss: 2.1509e-04 - rpn_bbox_loss: 0.0098 - mrcnn_class_loss: 0.0123 - mrcnn_bbox_loss: 0.0089 - mrcnn_mask_loss: 0.0710 - val_loss: 0.1198 - val_rpn_class_loss: 2.4464e-04 - val_rpn_bbox_loss: 0.0136 - val_mrcnn_class_loss: 0.0191 - val_mrcnn_bbox_loss: 0.0117 - val_mrcnn_mask_loss: 0.0752\n"
          ],
          "name": "stdout"
        }
      ]
    }
  ]
}